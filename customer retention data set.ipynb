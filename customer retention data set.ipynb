{
 "cells": [
  {
   "cell_type": "code",
   "execution_count": 1,
   "id": "e5a117cb",
   "metadata": {},
   "outputs": [],
   "source": [
    "import pandas as pd\n",
    "import warnings\n",
    "warnings.filterwarnings('ignore')"
   ]
  },
  {
   "cell_type": "code",
   "execution_count": 2,
   "id": "1e50c8ab",
   "metadata": {},
   "outputs": [],
   "source": [
    "df = pd.read_excel(\"customer_retention_dataset.xlsx\")"
   ]
  },
  {
   "cell_type": "code",
   "execution_count": 3,
   "id": "c6e7254b",
   "metadata": {},
   "outputs": [
    {
     "data": {
      "text/html": [
       "<div>\n",
       "<style scoped>\n",
       "    .dataframe tbody tr th:only-of-type {\n",
       "        vertical-align: middle;\n",
       "    }\n",
       "\n",
       "    .dataframe tbody tr th {\n",
       "        vertical-align: top;\n",
       "    }\n",
       "\n",
       "    .dataframe thead th {\n",
       "        text-align: right;\n",
       "    }\n",
       "</style>\n",
       "<table border=\"1\" class=\"dataframe\">\n",
       "  <thead>\n",
       "    <tr style=\"text-align: right;\">\n",
       "      <th></th>\n",
       "      <th>1Gender of respondent</th>\n",
       "      <th>2 How old are you?</th>\n",
       "      <th>3 Which city do you shop online from?</th>\n",
       "      <th>4 What is the Pin Code of where you shop online from?</th>\n",
       "      <th>5 Since How Long You are Shopping Online ?</th>\n",
       "      <th>6 How many times you have made an online purchase in the past 1 year?</th>\n",
       "      <th>7 How do you access the internet while shopping on-line?</th>\n",
       "      <th>8 Which device do you use to access the online shopping?</th>\n",
       "      <th>9 What is the screen size of your mobile device?\\t\\t\\t\\t\\t\\t</th>\n",
       "      <th>10 What is the operating system (OS) of your device?\\t\\t\\t\\t</th>\n",
       "      <th>...</th>\n",
       "      <th>Longer time to get logged in (promotion, sales period)</th>\n",
       "      <th>Longer time in displaying graphics and photos (promotion, sales period)</th>\n",
       "      <th>Late declaration of price (promotion, sales period)</th>\n",
       "      <th>Longer page loading time (promotion, sales period)</th>\n",
       "      <th>Limited mode of payment on most products (promotion, sales period)</th>\n",
       "      <th>Longer delivery period</th>\n",
       "      <th>Change in website/Application design</th>\n",
       "      <th>Frequent disruption when moving from one page to another</th>\n",
       "      <th>Website is as efficient as before</th>\n",
       "      <th>Which of the Indian online retailer would you recommend to a friend?</th>\n",
       "    </tr>\n",
       "  </thead>\n",
       "  <tbody>\n",
       "    <tr>\n",
       "      <th>0</th>\n",
       "      <td>Male</td>\n",
       "      <td>31-40 years</td>\n",
       "      <td>Delhi</td>\n",
       "      <td>110009</td>\n",
       "      <td>Above 4 years</td>\n",
       "      <td>31-40 times</td>\n",
       "      <td>Dial-up</td>\n",
       "      <td>Desktop</td>\n",
       "      <td>Others</td>\n",
       "      <td>Window/windows Mobile</td>\n",
       "      <td>...</td>\n",
       "      <td>Amazon.in</td>\n",
       "      <td>Amazon.in</td>\n",
       "      <td>Flipkart.com</td>\n",
       "      <td>Flipkart.com</td>\n",
       "      <td>Amazon.in</td>\n",
       "      <td>Paytm.com</td>\n",
       "      <td>Flipkart.com</td>\n",
       "      <td>Amazon.in</td>\n",
       "      <td>Amazon.in</td>\n",
       "      <td>Flipkart.com</td>\n",
       "    </tr>\n",
       "    <tr>\n",
       "      <th>1</th>\n",
       "      <td>Female</td>\n",
       "      <td>21-30 years</td>\n",
       "      <td>Delhi</td>\n",
       "      <td>110030</td>\n",
       "      <td>Above 4 years</td>\n",
       "      <td>41 times and above</td>\n",
       "      <td>Wi-Fi</td>\n",
       "      <td>Smartphone</td>\n",
       "      <td>4.7 inches</td>\n",
       "      <td>IOS/Mac</td>\n",
       "      <td>...</td>\n",
       "      <td>Amazon.in, Flipkart.com</td>\n",
       "      <td>Myntra.com</td>\n",
       "      <td>snapdeal.com</td>\n",
       "      <td>Snapdeal.com</td>\n",
       "      <td>Snapdeal.com</td>\n",
       "      <td>Snapdeal.com</td>\n",
       "      <td>Amazon.in</td>\n",
       "      <td>Myntra.com</td>\n",
       "      <td>Amazon.in, Flipkart.com</td>\n",
       "      <td>Amazon.in, Myntra.com</td>\n",
       "    </tr>\n",
       "    <tr>\n",
       "      <th>2</th>\n",
       "      <td>Female</td>\n",
       "      <td>21-30 years</td>\n",
       "      <td>Greater Noida</td>\n",
       "      <td>201308</td>\n",
       "      <td>3-4 years</td>\n",
       "      <td>41 times and above</td>\n",
       "      <td>Mobile Internet</td>\n",
       "      <td>Smartphone</td>\n",
       "      <td>5.5 inches</td>\n",
       "      <td>Android</td>\n",
       "      <td>...</td>\n",
       "      <td>Myntra.com</td>\n",
       "      <td>Myntra.com</td>\n",
       "      <td>Myntra.com</td>\n",
       "      <td>Myntra.com</td>\n",
       "      <td>Amazon.in</td>\n",
       "      <td>Paytm.com</td>\n",
       "      <td>Paytm.com</td>\n",
       "      <td>Paytm.com</td>\n",
       "      <td>Amazon.in</td>\n",
       "      <td>Amazon.in, Paytm.com, Myntra.com</td>\n",
       "    </tr>\n",
       "    <tr>\n",
       "      <th>3</th>\n",
       "      <td>Male</td>\n",
       "      <td>21-30 years</td>\n",
       "      <td>Karnal</td>\n",
       "      <td>132001</td>\n",
       "      <td>3-4 years</td>\n",
       "      <td>Less than 10 times</td>\n",
       "      <td>Mobile Internet</td>\n",
       "      <td>Smartphone</td>\n",
       "      <td>5.5 inches</td>\n",
       "      <td>IOS/Mac</td>\n",
       "      <td>...</td>\n",
       "      <td>Snapdeal.com</td>\n",
       "      <td>Myntra.com, Snapdeal.com</td>\n",
       "      <td>Myntra.com</td>\n",
       "      <td>Paytm.com</td>\n",
       "      <td>Paytm.com</td>\n",
       "      <td>Paytm.com</td>\n",
       "      <td>Amazon.in, Flipkart.com</td>\n",
       "      <td>Amazon.in, Flipkart.com</td>\n",
       "      <td>Amazon.in, Flipkart.com, Paytm.com</td>\n",
       "      <td>Amazon.in, Flipkart.com</td>\n",
       "    </tr>\n",
       "    <tr>\n",
       "      <th>4</th>\n",
       "      <td>Female</td>\n",
       "      <td>21-30 years</td>\n",
       "      <td>Bangalore</td>\n",
       "      <td>530068</td>\n",
       "      <td>2-3 years</td>\n",
       "      <td>11-20 times</td>\n",
       "      <td>Wi-Fi</td>\n",
       "      <td>Smartphone</td>\n",
       "      <td>4.7 inches</td>\n",
       "      <td>IOS/Mac</td>\n",
       "      <td>...</td>\n",
       "      <td>Flipkart.com, Paytm.com</td>\n",
       "      <td>Paytm.com</td>\n",
       "      <td>Paytm.com</td>\n",
       "      <td>Paytm.com</td>\n",
       "      <td>Snapdeal.com</td>\n",
       "      <td>Paytm.com</td>\n",
       "      <td>Amazon.in</td>\n",
       "      <td>Snapdeal.com</td>\n",
       "      <td>Paytm.com</td>\n",
       "      <td>Amazon.in, Myntra.com</td>\n",
       "    </tr>\n",
       "    <tr>\n",
       "      <th>...</th>\n",
       "      <td>...</td>\n",
       "      <td>...</td>\n",
       "      <td>...</td>\n",
       "      <td>...</td>\n",
       "      <td>...</td>\n",
       "      <td>...</td>\n",
       "      <td>...</td>\n",
       "      <td>...</td>\n",
       "      <td>...</td>\n",
       "      <td>...</td>\n",
       "      <td>...</td>\n",
       "      <td>...</td>\n",
       "      <td>...</td>\n",
       "      <td>...</td>\n",
       "      <td>...</td>\n",
       "      <td>...</td>\n",
       "      <td>...</td>\n",
       "      <td>...</td>\n",
       "      <td>...</td>\n",
       "      <td>...</td>\n",
       "      <td>...</td>\n",
       "    </tr>\n",
       "    <tr>\n",
       "      <th>264</th>\n",
       "      <td>Female</td>\n",
       "      <td>21-30 years</td>\n",
       "      <td>Solan</td>\n",
       "      <td>173212</td>\n",
       "      <td>1-2 years</td>\n",
       "      <td>Less than 10 times</td>\n",
       "      <td>Mobile Internet</td>\n",
       "      <td>Smartphone</td>\n",
       "      <td>5.5 inches</td>\n",
       "      <td>Android</td>\n",
       "      <td>...</td>\n",
       "      <td>Amazon.in</td>\n",
       "      <td>Amazon.in</td>\n",
       "      <td>Amazon.in</td>\n",
       "      <td>Amazon.in</td>\n",
       "      <td>Amazon.in</td>\n",
       "      <td>Amazon.in</td>\n",
       "      <td>Amazon.in</td>\n",
       "      <td>Amazon.in</td>\n",
       "      <td>Amazon.in</td>\n",
       "      <td>Amazon.in</td>\n",
       "    </tr>\n",
       "    <tr>\n",
       "      <th>265</th>\n",
       "      <td>Female</td>\n",
       "      <td>31-40 years</td>\n",
       "      <td>Ghaziabad</td>\n",
       "      <td>201008</td>\n",
       "      <td>1-2 years</td>\n",
       "      <td>31-40 times</td>\n",
       "      <td>Mobile Internet</td>\n",
       "      <td>Smartphone</td>\n",
       "      <td>Others</td>\n",
       "      <td>Android</td>\n",
       "      <td>...</td>\n",
       "      <td>Flipkart.com</td>\n",
       "      <td>Flipkart.com</td>\n",
       "      <td>Flipkart.com</td>\n",
       "      <td>Flipkart.com</td>\n",
       "      <td>Flipkart.com</td>\n",
       "      <td>Flipkart.com</td>\n",
       "      <td>Flipkart.com</td>\n",
       "      <td>Flipkart.com</td>\n",
       "      <td>Flipkart.com</td>\n",
       "      <td>Flipkart.com</td>\n",
       "    </tr>\n",
       "    <tr>\n",
       "      <th>266</th>\n",
       "      <td>Female</td>\n",
       "      <td>41-50 yaers</td>\n",
       "      <td>Bangalore</td>\n",
       "      <td>560010</td>\n",
       "      <td>2-3 years</td>\n",
       "      <td>Less than 10 times</td>\n",
       "      <td>Mobile internet</td>\n",
       "      <td>Laptop</td>\n",
       "      <td>Others</td>\n",
       "      <td>Window/windows Mobile</td>\n",
       "      <td>...</td>\n",
       "      <td>Amazon.in</td>\n",
       "      <td>Snapdeal.com</td>\n",
       "      <td>Amazon.in</td>\n",
       "      <td>Snapdeal.com</td>\n",
       "      <td>Snapdeal.com</td>\n",
       "      <td>Snapdeal.com</td>\n",
       "      <td>Snapdeal.com</td>\n",
       "      <td>Snapdeal.com</td>\n",
       "      <td>Amazon.in</td>\n",
       "      <td>Amazon.in</td>\n",
       "    </tr>\n",
       "    <tr>\n",
       "      <th>267</th>\n",
       "      <td>Female</td>\n",
       "      <td>Less than 20 years</td>\n",
       "      <td>Solan</td>\n",
       "      <td>173229</td>\n",
       "      <td>2-3 years</td>\n",
       "      <td>Less than 10 times</td>\n",
       "      <td>Wi-Fi</td>\n",
       "      <td>Smartphone</td>\n",
       "      <td>5.5 inches</td>\n",
       "      <td>Android</td>\n",
       "      <td>...</td>\n",
       "      <td>Amazon.in</td>\n",
       "      <td>Amazon.in, Myntra.com, Snapdeal.com</td>\n",
       "      <td>Amazon.in</td>\n",
       "      <td>Amazon.in, Snapdeal.com</td>\n",
       "      <td>Amazon.in</td>\n",
       "      <td>Amazon.in</td>\n",
       "      <td>Amazon.in</td>\n",
       "      <td>Myntra.com, Snapdeal.com</td>\n",
       "      <td>Myntra.com, Snapdeal.com</td>\n",
       "      <td>Amazon.in</td>\n",
       "    </tr>\n",
       "    <tr>\n",
       "      <th>268</th>\n",
       "      <td>Female</td>\n",
       "      <td>41-50 yaers</td>\n",
       "      <td>Ghaziabad</td>\n",
       "      <td>201009</td>\n",
       "      <td>2-3 years</td>\n",
       "      <td>31-40 times</td>\n",
       "      <td>Mobile Internet</td>\n",
       "      <td>Smartphone</td>\n",
       "      <td>5.5 inches</td>\n",
       "      <td>Android</td>\n",
       "      <td>...</td>\n",
       "      <td>Amazon.in</td>\n",
       "      <td>Amazon.in</td>\n",
       "      <td>Amazon.in</td>\n",
       "      <td>Amazon.in</td>\n",
       "      <td>Amazon.in</td>\n",
       "      <td>Amazon.in</td>\n",
       "      <td>Amazon.in</td>\n",
       "      <td>Amazon.in</td>\n",
       "      <td>Amazon.in</td>\n",
       "      <td>Amazon.in</td>\n",
       "    </tr>\n",
       "  </tbody>\n",
       "</table>\n",
       "<p>269 rows × 71 columns</p>\n",
       "</div>"
      ],
      "text/plain": [
       "    1Gender of respondent 2 How old are you?   \\\n",
       "0                    Male         31-40 years   \n",
       "1                  Female         21-30 years   \n",
       "2                  Female         21-30 years   \n",
       "3                    Male         21-30 years   \n",
       "4                  Female         21-30 years   \n",
       "..                    ...                 ...   \n",
       "264                Female         21-30 years   \n",
       "265                Female         31-40 years   \n",
       "266                Female         41-50 yaers   \n",
       "267                Female  Less than 20 years   \n",
       "268                Female         41-50 yaers   \n",
       "\n",
       "    3 Which city do you shop online from?  \\\n",
       "0                                   Delhi   \n",
       "1                                   Delhi   \n",
       "2                           Greater Noida   \n",
       "3                                 Karnal    \n",
       "4                              Bangalore    \n",
       "..                                    ...   \n",
       "264                                 Solan   \n",
       "265                             Ghaziabad   \n",
       "266                            Bangalore    \n",
       "267                                 Solan   \n",
       "268                             Ghaziabad   \n",
       "\n",
       "     4 What is the Pin Code of where you shop online from?  \\\n",
       "0                                               110009       \n",
       "1                                               110030       \n",
       "2                                               201308       \n",
       "3                                               132001       \n",
       "4                                               530068       \n",
       "..                                                 ...       \n",
       "264                                             173212       \n",
       "265                                             201008       \n",
       "266                                             560010       \n",
       "267                                             173229       \n",
       "268                                             201009       \n",
       "\n",
       "    5 Since How Long You are Shopping Online ?  \\\n",
       "0                                Above 4 years   \n",
       "1                                Above 4 years   \n",
       "2                                    3-4 years   \n",
       "3                                    3-4 years   \n",
       "4                                    2-3 years   \n",
       "..                                         ...   \n",
       "264                                  1-2 years   \n",
       "265                                  1-2 years   \n",
       "266                                  2-3 years   \n",
       "267                                  2-3 years   \n",
       "268                                  2-3 years   \n",
       "\n",
       "    6 How many times you have made an online purchase in the past 1 year?  \\\n",
       "0                                          31-40 times                      \n",
       "1                                   41 times and above                      \n",
       "2                                   41 times and above                      \n",
       "3                                   Less than 10 times                      \n",
       "4                                          11-20 times                      \n",
       "..                                                 ...                      \n",
       "264                                 Less than 10 times                      \n",
       "265                                        31-40 times                      \n",
       "266                                 Less than 10 times                      \n",
       "267                                 Less than 10 times                      \n",
       "268                                        31-40 times                      \n",
       "\n",
       "    7 How do you access the internet while shopping on-line?  \\\n",
       "0                                              Dial-up         \n",
       "1                                                Wi-Fi         \n",
       "2                                      Mobile Internet         \n",
       "3                                      Mobile Internet         \n",
       "4                                                Wi-Fi         \n",
       "..                                                 ...         \n",
       "264                                    Mobile Internet         \n",
       "265                                    Mobile Internet         \n",
       "266                                    Mobile internet         \n",
       "267                                              Wi-Fi         \n",
       "268                                    Mobile Internet         \n",
       "\n",
       "    8 Which device do you use to access the online shopping?  \\\n",
       "0                                              Desktop         \n",
       "1                                           Smartphone         \n",
       "2                                           Smartphone         \n",
       "3                                           Smartphone         \n",
       "4                                           Smartphone         \n",
       "..                                                 ...         \n",
       "264                                         Smartphone         \n",
       "265                                         Smartphone         \n",
       "266                                             Laptop         \n",
       "267                                         Smartphone         \n",
       "268                                         Smartphone         \n",
       "\n",
       "    9 What is the screen size of your mobile device?\\t\\t\\t\\t\\t\\t                                          \\\n",
       "0                                               Others                                                     \n",
       "1                                           4.7 inches                                                     \n",
       "2                                           5.5 inches                                                     \n",
       "3                                           5.5 inches                                                     \n",
       "4                                           4.7 inches                                                     \n",
       "..                                                 ...                                                     \n",
       "264                                         5.5 inches                                                     \n",
       "265                                             Others                                                     \n",
       "266                                             Others                                                     \n",
       "267                                         5.5 inches                                                     \n",
       "268                                         5.5 inches                                                     \n",
       "\n",
       "    10 What is the operating system (OS) of your device?\\t\\t\\t\\t                                            \\\n",
       "0                                Window/windows Mobile                                                       \n",
       "1                                              IOS/Mac                                                       \n",
       "2                                              Android                                                       \n",
       "3                                              IOS/Mac                                                       \n",
       "4                                              IOS/Mac                                                       \n",
       "..                                                 ...                                                       \n",
       "264                                            Android                                                       \n",
       "265                                            Android                                                       \n",
       "266                              Window/windows Mobile                                                       \n",
       "267                                            Android                                                       \n",
       "268                                            Android                                                       \n",
       "\n",
       "     ... Longer time to get logged in (promotion, sales period)  \\\n",
       "0    ...                                          Amazon.in       \n",
       "1    ...                            Amazon.in, Flipkart.com       \n",
       "2    ...                                         Myntra.com       \n",
       "3    ...                                       Snapdeal.com       \n",
       "4    ...                            Flipkart.com, Paytm.com       \n",
       "..   ...                                                ...       \n",
       "264  ...                                          Amazon.in       \n",
       "265  ...                                       Flipkart.com       \n",
       "266  ...                                          Amazon.in       \n",
       "267  ...                                          Amazon.in       \n",
       "268  ...                                          Amazon.in       \n",
       "\n",
       "    Longer time in displaying graphics and photos (promotion, sales period)  \\\n",
       "0                                            Amazon.in                        \n",
       "1                                           Myntra.com                        \n",
       "2                                           Myntra.com                        \n",
       "3                             Myntra.com, Snapdeal.com                        \n",
       "4                                            Paytm.com                        \n",
       "..                                                 ...                        \n",
       "264                                          Amazon.in                        \n",
       "265                                       Flipkart.com                        \n",
       "266                                       Snapdeal.com                        \n",
       "267                Amazon.in, Myntra.com, Snapdeal.com                        \n",
       "268                                          Amazon.in                        \n",
       "\n",
       "    Late declaration of price (promotion, sales period)  \\\n",
       "0                                         Flipkart.com    \n",
       "1                                         snapdeal.com    \n",
       "2                                           Myntra.com    \n",
       "3                                           Myntra.com    \n",
       "4                                            Paytm.com    \n",
       "..                                                 ...    \n",
       "264                                          Amazon.in    \n",
       "265                                       Flipkart.com    \n",
       "266                                          Amazon.in    \n",
       "267                                          Amazon.in    \n",
       "268                                          Amazon.in    \n",
       "\n",
       "    Longer page loading time (promotion, sales period)  \\\n",
       "0                                         Flipkart.com   \n",
       "1                                         Snapdeal.com   \n",
       "2                                           Myntra.com   \n",
       "3                                            Paytm.com   \n",
       "4                                            Paytm.com   \n",
       "..                                                 ...   \n",
       "264                                          Amazon.in   \n",
       "265                                       Flipkart.com   \n",
       "266                                       Snapdeal.com   \n",
       "267                            Amazon.in, Snapdeal.com   \n",
       "268                                          Amazon.in   \n",
       "\n",
       "    Limited mode of payment on most products (promotion, sales period)  \\\n",
       "0                                            Amazon.in                   \n",
       "1                                         Snapdeal.com                   \n",
       "2                                            Amazon.in                   \n",
       "3                                            Paytm.com                   \n",
       "4                                         Snapdeal.com                   \n",
       "..                                                 ...                   \n",
       "264                                          Amazon.in                   \n",
       "265                                       Flipkart.com                   \n",
       "266                                       Snapdeal.com                   \n",
       "267                                          Amazon.in                   \n",
       "268                                          Amazon.in                   \n",
       "\n",
       "    Longer delivery period Change in website/Application design  \\\n",
       "0                Paytm.com                         Flipkart.com   \n",
       "1             Snapdeal.com                            Amazon.in   \n",
       "2                Paytm.com                            Paytm.com   \n",
       "3                Paytm.com              Amazon.in, Flipkart.com   \n",
       "4                Paytm.com                            Amazon.in   \n",
       "..                     ...                                  ...   \n",
       "264              Amazon.in                            Amazon.in   \n",
       "265           Flipkart.com                         Flipkart.com   \n",
       "266           Snapdeal.com                         Snapdeal.com   \n",
       "267              Amazon.in                            Amazon.in   \n",
       "268              Amazon.in                            Amazon.in   \n",
       "\n",
       "    Frequent disruption when moving from one page to another  \\\n",
       "0                                            Amazon.in         \n",
       "1                                           Myntra.com         \n",
       "2                                            Paytm.com         \n",
       "3                              Amazon.in, Flipkart.com         \n",
       "4                                         Snapdeal.com         \n",
       "..                                                 ...         \n",
       "264                                          Amazon.in         \n",
       "265                                       Flipkart.com         \n",
       "266                                       Snapdeal.com         \n",
       "267                           Myntra.com, Snapdeal.com         \n",
       "268                                          Amazon.in         \n",
       "\n",
       "      Website is as efficient as before  \\\n",
       "0                             Amazon.in   \n",
       "1               Amazon.in, Flipkart.com   \n",
       "2                             Amazon.in   \n",
       "3    Amazon.in, Flipkart.com, Paytm.com   \n",
       "4                             Paytm.com   \n",
       "..                                  ...   \n",
       "264                           Amazon.in   \n",
       "265                        Flipkart.com   \n",
       "266                           Amazon.in   \n",
       "267            Myntra.com, Snapdeal.com   \n",
       "268                           Amazon.in   \n",
       "\n",
       "    Which of the Indian online retailer would you recommend to a friend?  \n",
       "0                                         Flipkart.com                    \n",
       "1                                Amazon.in, Myntra.com                    \n",
       "2                     Amazon.in, Paytm.com, Myntra.com                    \n",
       "3                              Amazon.in, Flipkart.com                    \n",
       "4                                Amazon.in, Myntra.com                    \n",
       "..                                                 ...                    \n",
       "264                                          Amazon.in                    \n",
       "265                                       Flipkart.com                    \n",
       "266                                          Amazon.in                    \n",
       "267                                          Amazon.in                    \n",
       "268                                          Amazon.in                    \n",
       "\n",
       "[269 rows x 71 columns]"
      ]
     },
     "execution_count": 3,
     "metadata": {},
     "output_type": "execute_result"
    }
   ],
   "source": [
    "df"
   ]
  },
  {
   "cell_type": "code",
   "execution_count": 4,
   "id": "90a736a4",
   "metadata": {},
   "outputs": [
    {
     "data": {
      "text/plain": [
       "Index(['1Gender of respondent', '2 How old are you? ',\n",
       "       '3 Which city do you shop online from?',\n",
       "       '4 What is the Pin Code of where you shop online from?',\n",
       "       '5 Since How Long You are Shopping Online ?',\n",
       "       '6 How many times you have made an online purchase in the past 1 year?',\n",
       "       '7 How do you access the internet while shopping on-line?',\n",
       "       '8 Which device do you use to access the online shopping?',\n",
       "       '9 What is the screen size of your mobile device?\\t\\t\\t\\t\\t\\t                                        ',\n",
       "       '10 What is the operating system (OS) of your device?\\t\\t\\t\\t                                          ',\n",
       "       '11 What browser do you run on your device to access the website?\\t\\t\\t                                                          ',\n",
       "       '12 Which channel did you follow to arrive at your favorite online store for the first time?                                                                   ',\n",
       "       '13 After first visit, how do you reach the online retail store?\\t\\t\\t\\t                                                   ',\n",
       "       '14 How much time do you explore the e- retail store before making a purchase decision?                                                                   ',\n",
       "       '15 What is your preferred payment Option?\\t\\t\\t\\t\\t                                                                                                                               ',\n",
       "       '16 How frequently do you abandon (selecting an items and leaving without making payment) your shopping cart?\\t\\t\\t\\t\\t\\t\\t                                                   ',\n",
       "       '17 Why did you abandon the “Bag”, “Shopping Cart”?\\t\\t\\t\\t\\t                                                                                                                                                       ',\n",
       "       '18 The content on the website must be easy to read and understand',\n",
       "       '19 Information on similar product to the one highlighted  is important for product comparison',\n",
       "       '20 Complete information on listed seller and product being offered is important for purchase decision.',\n",
       "       '21 All relevant information on listed products must be stated clearly',\n",
       "       '22 Ease of navigation in website', '23 Loading and processing speed',\n",
       "       '24 User friendly Interface of the website',\n",
       "       '25 Convenient Payment methods',\n",
       "       '26 Trust that the online retail store will fulfill its part of the transaction at the stipulated time',\n",
       "       '27 Empathy (readiness to assist with queries) towards the customers',\n",
       "       '28 Being able to guarantee the privacy of the customer',\n",
       "       '29 Responsiveness, availability of several communication channels (email, online rep, twitter, phone etc.)',\n",
       "       '30 Online shopping gives monetary benefit and discounts',\n",
       "       '31 Enjoyment is derived from shopping online',\n",
       "       '32 Shopping online is convenient and flexible',\n",
       "       '33 Return and replacement policy of the e-tailer is important for purchase decision',\n",
       "       '34 Gaining access to loyalty programs is a benefit of shopping online',\n",
       "       '35 Displaying quality Information on the website improves satisfaction of customers',\n",
       "       '36 User derive satisfaction while shopping on a good quality website or application',\n",
       "       '37 Net Benefit derived from shopping online can lead to users satisfaction',\n",
       "       '38 User satisfaction cannot exist without trust',\n",
       "       '39 Offering a wide variety of listed product in several category',\n",
       "       '40 Provision of complete and relevant product information',\n",
       "       '41 Monetary savings',\n",
       "       '42 The Convenience of patronizing the online retailer',\n",
       "       '43 Shopping on the website gives you the sense of adventure',\n",
       "       '44 Shopping on your preferred e-tailer enhances your social status',\n",
       "       '45 You feel gratification shopping on your favorite e-tailer',\n",
       "       '46 Shopping on the website helps you fulfill certain roles',\n",
       "       '47 Getting value for money spent',\n",
       "       'From the following, tick any (or all) of the online retailers you have shopped from;                                                                           ',\n",
       "       'Easy to use website or application',\n",
       "       'Visual appealing web-page layout', 'Wild variety of product on offer',\n",
       "       'Complete, relevant description information of products',\n",
       "       'Fast loading website speed of website and application',\n",
       "       'Reliability of the website or application',\n",
       "       'Quickness to complete purchase',\n",
       "       'Availability of several payment options', 'Speedy order delivery ',\n",
       "       'Privacy of customers’ information',\n",
       "       'Security of customer financial information',\n",
       "       'Perceived Trustworthiness',\n",
       "       'Presence of online assistance through multi-channel',\n",
       "       'Longer time to get logged in (promotion, sales period)',\n",
       "       'Longer time in displaying graphics and photos (promotion, sales period)',\n",
       "       'Late declaration of price (promotion, sales period)',\n",
       "       'Longer page loading time (promotion, sales period)',\n",
       "       'Limited mode of payment on most products (promotion, sales period)',\n",
       "       'Longer delivery period', 'Change in website/Application design',\n",
       "       'Frequent disruption when moving from one page to another',\n",
       "       'Website is as efficient as before',\n",
       "       'Which of the Indian online retailer would you recommend to a friend?'],\n",
       "      dtype='object')"
      ]
     },
     "execution_count": 4,
     "metadata": {},
     "output_type": "execute_result"
    }
   ],
   "source": [
    "df.columns"
   ]
  },
  {
   "cell_type": "code",
   "execution_count": 5,
   "id": "e05613b9",
   "metadata": {},
   "outputs": [
    {
     "data": {
      "text/plain": [
       "0                                              Paytm.com\n",
       "1                                             Myntra.com\n",
       "2                       Amazon.in, Paytm.com, Myntra.com\n",
       "3                     Amazon.in, Flipkart.com, Paytm.com\n",
       "4                       Amazon.in, Paytm.com, Myntra.com\n",
       "                             ...                        \n",
       "264                                            Amazon.in\n",
       "265                                         Flipkart.com\n",
       "266                                            Amazon.in\n",
       "267    Amazon.in, Flipkart.com, Myntra.com, Snapdeal.com\n",
       "268                                            Amazon.in\n",
       "Name: Reliability of the website or application, Length: 269, dtype: object"
      ]
     },
     "execution_count": 5,
     "metadata": {},
     "output_type": "execute_result"
    }
   ],
   "source": [
    "df['Reliability of the website or application']"
   ]
  },
  {
   "cell_type": "code",
   "execution_count": 6,
   "id": "2d8beab8",
   "metadata": {},
   "outputs": [],
   "source": [
    "from sklearn.preprocessing import LabelEncoder\n",
    "le=LabelEncoder()"
   ]
  },
  {
   "cell_type": "code",
   "execution_count": 7,
   "id": "2759a1c4",
   "metadata": {},
   "outputs": [],
   "source": [
    "for i in df.columns:\n",
    "    if df[i].dtypes=='object':\n",
    "        df[i]=le.fit_transform(df[i].values.reshape(-1,1))"
   ]
  },
  {
   "cell_type": "code",
   "execution_count": 8,
   "id": "0895b4ff",
   "metadata": {},
   "outputs": [
    {
     "data": {
      "text/html": [
       "<div>\n",
       "<style scoped>\n",
       "    .dataframe tbody tr th:only-of-type {\n",
       "        vertical-align: middle;\n",
       "    }\n",
       "\n",
       "    .dataframe tbody tr th {\n",
       "        vertical-align: top;\n",
       "    }\n",
       "\n",
       "    .dataframe thead th {\n",
       "        text-align: right;\n",
       "    }\n",
       "</style>\n",
       "<table border=\"1\" class=\"dataframe\">\n",
       "  <thead>\n",
       "    <tr style=\"text-align: right;\">\n",
       "      <th></th>\n",
       "      <th>1Gender of respondent</th>\n",
       "      <th>2 How old are you?</th>\n",
       "      <th>3 Which city do you shop online from?</th>\n",
       "      <th>4 What is the Pin Code of where you shop online from?</th>\n",
       "      <th>5 Since How Long You are Shopping Online ?</th>\n",
       "      <th>6 How many times you have made an online purchase in the past 1 year?</th>\n",
       "      <th>7 How do you access the internet while shopping on-line?</th>\n",
       "      <th>8 Which device do you use to access the online shopping?</th>\n",
       "      <th>9 What is the screen size of your mobile device?\\t\\t\\t\\t\\t\\t</th>\n",
       "      <th>10 What is the operating system (OS) of your device?\\t\\t\\t\\t</th>\n",
       "      <th>...</th>\n",
       "      <th>Longer time to get logged in (promotion, sales period)</th>\n",
       "      <th>Longer time in displaying graphics and photos (promotion, sales period)</th>\n",
       "      <th>Late declaration of price (promotion, sales period)</th>\n",
       "      <th>Longer page loading time (promotion, sales period)</th>\n",
       "      <th>Limited mode of payment on most products (promotion, sales period)</th>\n",
       "      <th>Longer delivery period</th>\n",
       "      <th>Change in website/Application design</th>\n",
       "      <th>Frequent disruption when moving from one page to another</th>\n",
       "      <th>Website is as efficient as before</th>\n",
       "      <th>Which of the Indian online retailer would you recommend to a friend?</th>\n",
       "    </tr>\n",
       "  </thead>\n",
       "  <tbody>\n",
       "    <tr>\n",
       "      <th>0</th>\n",
       "      <td>1</td>\n",
       "      <td>1</td>\n",
       "      <td>2</td>\n",
       "      <td>110009</td>\n",
       "      <td>3</td>\n",
       "      <td>2</td>\n",
       "      <td>0</td>\n",
       "      <td>0</td>\n",
       "      <td>3</td>\n",
       "      <td>2</td>\n",
       "      <td>...</td>\n",
       "      <td>0</td>\n",
       "      <td>0</td>\n",
       "      <td>3</td>\n",
       "      <td>5</td>\n",
       "      <td>0</td>\n",
       "      <td>3</td>\n",
       "      <td>2</td>\n",
       "      <td>0</td>\n",
       "      <td>0</td>\n",
       "      <td>6</td>\n",
       "    </tr>\n",
       "    <tr>\n",
       "      <th>1</th>\n",
       "      <td>0</td>\n",
       "      <td>0</td>\n",
       "      <td>2</td>\n",
       "      <td>110030</td>\n",
       "      <td>3</td>\n",
       "      <td>3</td>\n",
       "      <td>3</td>\n",
       "      <td>2</td>\n",
       "      <td>0</td>\n",
       "      <td>1</td>\n",
       "      <td>...</td>\n",
       "      <td>1</td>\n",
       "      <td>6</td>\n",
       "      <td>7</td>\n",
       "      <td>10</td>\n",
       "      <td>7</td>\n",
       "      <td>5</td>\n",
       "      <td>0</td>\n",
       "      <td>4</td>\n",
       "      <td>1</td>\n",
       "      <td>3</td>\n",
       "    </tr>\n",
       "    <tr>\n",
       "      <th>2</th>\n",
       "      <td>0</td>\n",
       "      <td>0</td>\n",
       "      <td>4</td>\n",
       "      <td>201308</td>\n",
       "      <td>2</td>\n",
       "      <td>3</td>\n",
       "      <td>1</td>\n",
       "      <td>2</td>\n",
       "      <td>2</td>\n",
       "      <td>0</td>\n",
       "      <td>...</td>\n",
       "      <td>7</td>\n",
       "      <td>6</td>\n",
       "      <td>4</td>\n",
       "      <td>7</td>\n",
       "      <td>0</td>\n",
       "      <td>3</td>\n",
       "      <td>5</td>\n",
       "      <td>6</td>\n",
       "      <td>0</td>\n",
       "      <td>5</td>\n",
       "    </tr>\n",
       "    <tr>\n",
       "      <th>3</th>\n",
       "      <td>1</td>\n",
       "      <td>0</td>\n",
       "      <td>6</td>\n",
       "      <td>132001</td>\n",
       "      <td>2</td>\n",
       "      <td>5</td>\n",
       "      <td>1</td>\n",
       "      <td>2</td>\n",
       "      <td>2</td>\n",
       "      <td>1</td>\n",
       "      <td>...</td>\n",
       "      <td>9</td>\n",
       "      <td>7</td>\n",
       "      <td>4</td>\n",
       "      <td>8</td>\n",
       "      <td>5</td>\n",
       "      <td>3</td>\n",
       "      <td>1</td>\n",
       "      <td>1</td>\n",
       "      <td>2</td>\n",
       "      <td>1</td>\n",
       "    </tr>\n",
       "    <tr>\n",
       "      <th>4</th>\n",
       "      <td>0</td>\n",
       "      <td>0</td>\n",
       "      <td>0</td>\n",
       "      <td>530068</td>\n",
       "      <td>1</td>\n",
       "      <td>0</td>\n",
       "      <td>3</td>\n",
       "      <td>2</td>\n",
       "      <td>0</td>\n",
       "      <td>1</td>\n",
       "      <td>...</td>\n",
       "      <td>5</td>\n",
       "      <td>8</td>\n",
       "      <td>5</td>\n",
       "      <td>8</td>\n",
       "      <td>7</td>\n",
       "      <td>3</td>\n",
       "      <td>0</td>\n",
       "      <td>7</td>\n",
       "      <td>6</td>\n",
       "      <td>3</td>\n",
       "    </tr>\n",
       "  </tbody>\n",
       "</table>\n",
       "<p>5 rows × 71 columns</p>\n",
       "</div>"
      ],
      "text/plain": [
       "   1Gender of respondent  2 How old are you?   \\\n",
       "0                      1                    1   \n",
       "1                      0                    0   \n",
       "2                      0                    0   \n",
       "3                      1                    0   \n",
       "4                      0                    0   \n",
       "\n",
       "   3 Which city do you shop online from?  \\\n",
       "0                                      2   \n",
       "1                                      2   \n",
       "2                                      4   \n",
       "3                                      6   \n",
       "4                                      0   \n",
       "\n",
       "   4 What is the Pin Code of where you shop online from?  \\\n",
       "0                                             110009       \n",
       "1                                             110030       \n",
       "2                                             201308       \n",
       "3                                             132001       \n",
       "4                                             530068       \n",
       "\n",
       "   5 Since How Long You are Shopping Online ?  \\\n",
       "0                                           3   \n",
       "1                                           3   \n",
       "2                                           2   \n",
       "3                                           2   \n",
       "4                                           1   \n",
       "\n",
       "   6 How many times you have made an online purchase in the past 1 year?  \\\n",
       "0                                                  2                       \n",
       "1                                                  3                       \n",
       "2                                                  3                       \n",
       "3                                                  5                       \n",
       "4                                                  0                       \n",
       "\n",
       "   7 How do you access the internet while shopping on-line?  \\\n",
       "0                                                  0          \n",
       "1                                                  3          \n",
       "2                                                  1          \n",
       "3                                                  1          \n",
       "4                                                  3          \n",
       "\n",
       "   8 Which device do you use to access the online shopping?  \\\n",
       "0                                                  0          \n",
       "1                                                  2          \n",
       "2                                                  2          \n",
       "3                                                  2          \n",
       "4                                                  2          \n",
       "\n",
       "   9 What is the screen size of your mobile device?\\t\\t\\t\\t\\t\\t                                          \\\n",
       "0                                                  3                                                      \n",
       "1                                                  0                                                      \n",
       "2                                                  2                                                      \n",
       "3                                                  2                                                      \n",
       "4                                                  0                                                      \n",
       "\n",
       "   10 What is the operating system (OS) of your device?\\t\\t\\t\\t                                            \\\n",
       "0                                                  2                                                        \n",
       "1                                                  1                                                        \n",
       "2                                                  0                                                        \n",
       "3                                                  1                                                        \n",
       "4                                                  1                                                        \n",
       "\n",
       "   ...  Longer time to get logged in (promotion, sales period)  \\\n",
       "0  ...                                                  0        \n",
       "1  ...                                                  1        \n",
       "2  ...                                                  7        \n",
       "3  ...                                                  9        \n",
       "4  ...                                                  5        \n",
       "\n",
       "   Longer time in displaying graphics and photos (promotion, sales period)  \\\n",
       "0                                                  0                         \n",
       "1                                                  6                         \n",
       "2                                                  6                         \n",
       "3                                                  7                         \n",
       "4                                                  8                         \n",
       "\n",
       "   Late declaration of price (promotion, sales period)  \\\n",
       "0                                                  3     \n",
       "1                                                  7     \n",
       "2                                                  4     \n",
       "3                                                  4     \n",
       "4                                                  5     \n",
       "\n",
       "   Longer page loading time (promotion, sales period)  \\\n",
       "0                                                  5    \n",
       "1                                                 10    \n",
       "2                                                  7    \n",
       "3                                                  8    \n",
       "4                                                  8    \n",
       "\n",
       "   Limited mode of payment on most products (promotion, sales period)  \\\n",
       "0                                                  0                    \n",
       "1                                                  7                    \n",
       "2                                                  0                    \n",
       "3                                                  5                    \n",
       "4                                                  7                    \n",
       "\n",
       "   Longer delivery period  Change in website/Application design  \\\n",
       "0                       3                                     2   \n",
       "1                       5                                     0   \n",
       "2                       3                                     5   \n",
       "3                       3                                     1   \n",
       "4                       3                                     0   \n",
       "\n",
       "   Frequent disruption when moving from one page to another  \\\n",
       "0                                                  0          \n",
       "1                                                  4          \n",
       "2                                                  6          \n",
       "3                                                  1          \n",
       "4                                                  7          \n",
       "\n",
       "   Website is as efficient as before  \\\n",
       "0                                  0   \n",
       "1                                  1   \n",
       "2                                  0   \n",
       "3                                  2   \n",
       "4                                  6   \n",
       "\n",
       "   Which of the Indian online retailer would you recommend to a friend?  \n",
       "0                                                  6                     \n",
       "1                                                  3                     \n",
       "2                                                  5                     \n",
       "3                                                  1                     \n",
       "4                                                  3                     \n",
       "\n",
       "[5 rows x 71 columns]"
      ]
     },
     "execution_count": 8,
     "metadata": {},
     "output_type": "execute_result"
    }
   ],
   "source": [
    "df.head()"
   ]
  },
  {
   "cell_type": "code",
   "execution_count": 9,
   "id": "6eb4b301",
   "metadata": {},
   "outputs": [
    {
     "data": {
      "text/html": [
       "<div>\n",
       "<style scoped>\n",
       "    .dataframe tbody tr th:only-of-type {\n",
       "        vertical-align: middle;\n",
       "    }\n",
       "\n",
       "    .dataframe tbody tr th {\n",
       "        vertical-align: top;\n",
       "    }\n",
       "\n",
       "    .dataframe thead th {\n",
       "        text-align: right;\n",
       "    }\n",
       "</style>\n",
       "<table border=\"1\" class=\"dataframe\">\n",
       "  <thead>\n",
       "    <tr style=\"text-align: right;\">\n",
       "      <th></th>\n",
       "      <th>1Gender of respondent</th>\n",
       "      <th>2 How old are you?</th>\n",
       "      <th>3 Which city do you shop online from?</th>\n",
       "      <th>4 What is the Pin Code of where you shop online from?</th>\n",
       "      <th>5 Since How Long You are Shopping Online ?</th>\n",
       "      <th>6 How many times you have made an online purchase in the past 1 year?</th>\n",
       "      <th>7 How do you access the internet while shopping on-line?</th>\n",
       "      <th>8 Which device do you use to access the online shopping?</th>\n",
       "      <th>9 What is the screen size of your mobile device?\\t\\t\\t\\t\\t\\t</th>\n",
       "      <th>10 What is the operating system (OS) of your device?\\t\\t\\t\\t</th>\n",
       "      <th>...</th>\n",
       "      <th>Longer time to get logged in (promotion, sales period)</th>\n",
       "      <th>Longer time in displaying graphics and photos (promotion, sales period)</th>\n",
       "      <th>Late declaration of price (promotion, sales period)</th>\n",
       "      <th>Longer page loading time (promotion, sales period)</th>\n",
       "      <th>Limited mode of payment on most products (promotion, sales period)</th>\n",
       "      <th>Longer delivery period</th>\n",
       "      <th>Change in website/Application design</th>\n",
       "      <th>Frequent disruption when moving from one page to another</th>\n",
       "      <th>Website is as efficient as before</th>\n",
       "      <th>Which of the Indian online retailer would you recommend to a friend?</th>\n",
       "    </tr>\n",
       "  </thead>\n",
       "  <tbody>\n",
       "    <tr>\n",
       "      <th>0</th>\n",
       "      <td>1</td>\n",
       "      <td>1</td>\n",
       "      <td>2</td>\n",
       "      <td>110009</td>\n",
       "      <td>3</td>\n",
       "      <td>2</td>\n",
       "      <td>0</td>\n",
       "      <td>0</td>\n",
       "      <td>3</td>\n",
       "      <td>2</td>\n",
       "      <td>...</td>\n",
       "      <td>0</td>\n",
       "      <td>0</td>\n",
       "      <td>3</td>\n",
       "      <td>5</td>\n",
       "      <td>0</td>\n",
       "      <td>3</td>\n",
       "      <td>2</td>\n",
       "      <td>0</td>\n",
       "      <td>0</td>\n",
       "      <td>6</td>\n",
       "    </tr>\n",
       "    <tr>\n",
       "      <th>1</th>\n",
       "      <td>0</td>\n",
       "      <td>0</td>\n",
       "      <td>2</td>\n",
       "      <td>110030</td>\n",
       "      <td>3</td>\n",
       "      <td>3</td>\n",
       "      <td>3</td>\n",
       "      <td>2</td>\n",
       "      <td>0</td>\n",
       "      <td>1</td>\n",
       "      <td>...</td>\n",
       "      <td>1</td>\n",
       "      <td>6</td>\n",
       "      <td>7</td>\n",
       "      <td>10</td>\n",
       "      <td>7</td>\n",
       "      <td>5</td>\n",
       "      <td>0</td>\n",
       "      <td>4</td>\n",
       "      <td>1</td>\n",
       "      <td>3</td>\n",
       "    </tr>\n",
       "    <tr>\n",
       "      <th>2</th>\n",
       "      <td>0</td>\n",
       "      <td>0</td>\n",
       "      <td>4</td>\n",
       "      <td>201308</td>\n",
       "      <td>2</td>\n",
       "      <td>3</td>\n",
       "      <td>1</td>\n",
       "      <td>2</td>\n",
       "      <td>2</td>\n",
       "      <td>0</td>\n",
       "      <td>...</td>\n",
       "      <td>7</td>\n",
       "      <td>6</td>\n",
       "      <td>4</td>\n",
       "      <td>7</td>\n",
       "      <td>0</td>\n",
       "      <td>3</td>\n",
       "      <td>5</td>\n",
       "      <td>6</td>\n",
       "      <td>0</td>\n",
       "      <td>5</td>\n",
       "    </tr>\n",
       "    <tr>\n",
       "      <th>3</th>\n",
       "      <td>1</td>\n",
       "      <td>0</td>\n",
       "      <td>6</td>\n",
       "      <td>132001</td>\n",
       "      <td>2</td>\n",
       "      <td>5</td>\n",
       "      <td>1</td>\n",
       "      <td>2</td>\n",
       "      <td>2</td>\n",
       "      <td>1</td>\n",
       "      <td>...</td>\n",
       "      <td>9</td>\n",
       "      <td>7</td>\n",
       "      <td>4</td>\n",
       "      <td>8</td>\n",
       "      <td>5</td>\n",
       "      <td>3</td>\n",
       "      <td>1</td>\n",
       "      <td>1</td>\n",
       "      <td>2</td>\n",
       "      <td>1</td>\n",
       "    </tr>\n",
       "    <tr>\n",
       "      <th>4</th>\n",
       "      <td>0</td>\n",
       "      <td>0</td>\n",
       "      <td>0</td>\n",
       "      <td>530068</td>\n",
       "      <td>1</td>\n",
       "      <td>0</td>\n",
       "      <td>3</td>\n",
       "      <td>2</td>\n",
       "      <td>0</td>\n",
       "      <td>1</td>\n",
       "      <td>...</td>\n",
       "      <td>5</td>\n",
       "      <td>8</td>\n",
       "      <td>5</td>\n",
       "      <td>8</td>\n",
       "      <td>7</td>\n",
       "      <td>3</td>\n",
       "      <td>0</td>\n",
       "      <td>7</td>\n",
       "      <td>6</td>\n",
       "      <td>3</td>\n",
       "    </tr>\n",
       "    <tr>\n",
       "      <th>...</th>\n",
       "      <td>...</td>\n",
       "      <td>...</td>\n",
       "      <td>...</td>\n",
       "      <td>...</td>\n",
       "      <td>...</td>\n",
       "      <td>...</td>\n",
       "      <td>...</td>\n",
       "      <td>...</td>\n",
       "      <td>...</td>\n",
       "      <td>...</td>\n",
       "      <td>...</td>\n",
       "      <td>...</td>\n",
       "      <td>...</td>\n",
       "      <td>...</td>\n",
       "      <td>...</td>\n",
       "      <td>...</td>\n",
       "      <td>...</td>\n",
       "      <td>...</td>\n",
       "      <td>...</td>\n",
       "      <td>...</td>\n",
       "      <td>...</td>\n",
       "    </tr>\n",
       "    <tr>\n",
       "      <th>264</th>\n",
       "      <td>0</td>\n",
       "      <td>0</td>\n",
       "      <td>10</td>\n",
       "      <td>173212</td>\n",
       "      <td>0</td>\n",
       "      <td>5</td>\n",
       "      <td>1</td>\n",
       "      <td>2</td>\n",
       "      <td>2</td>\n",
       "      <td>0</td>\n",
       "      <td>...</td>\n",
       "      <td>0</td>\n",
       "      <td>0</td>\n",
       "      <td>0</td>\n",
       "      <td>0</td>\n",
       "      <td>0</td>\n",
       "      <td>0</td>\n",
       "      <td>0</td>\n",
       "      <td>0</td>\n",
       "      <td>0</td>\n",
       "      <td>0</td>\n",
       "    </tr>\n",
       "    <tr>\n",
       "      <th>265</th>\n",
       "      <td>0</td>\n",
       "      <td>1</td>\n",
       "      <td>3</td>\n",
       "      <td>201008</td>\n",
       "      <td>0</td>\n",
       "      <td>2</td>\n",
       "      <td>1</td>\n",
       "      <td>2</td>\n",
       "      <td>3</td>\n",
       "      <td>0</td>\n",
       "      <td>...</td>\n",
       "      <td>4</td>\n",
       "      <td>4</td>\n",
       "      <td>3</td>\n",
       "      <td>5</td>\n",
       "      <td>3</td>\n",
       "      <td>1</td>\n",
       "      <td>2</td>\n",
       "      <td>2</td>\n",
       "      <td>4</td>\n",
       "      <td>6</td>\n",
       "    </tr>\n",
       "    <tr>\n",
       "      <th>266</th>\n",
       "      <td>0</td>\n",
       "      <td>2</td>\n",
       "      <td>0</td>\n",
       "      <td>560010</td>\n",
       "      <td>1</td>\n",
       "      <td>5</td>\n",
       "      <td>2</td>\n",
       "      <td>1</td>\n",
       "      <td>3</td>\n",
       "      <td>2</td>\n",
       "      <td>...</td>\n",
       "      <td>0</td>\n",
       "      <td>9</td>\n",
       "      <td>0</td>\n",
       "      <td>10</td>\n",
       "      <td>7</td>\n",
       "      <td>5</td>\n",
       "      <td>6</td>\n",
       "      <td>7</td>\n",
       "      <td>0</td>\n",
       "      <td>0</td>\n",
       "    </tr>\n",
       "    <tr>\n",
       "      <th>267</th>\n",
       "      <td>0</td>\n",
       "      <td>4</td>\n",
       "      <td>10</td>\n",
       "      <td>173229</td>\n",
       "      <td>1</td>\n",
       "      <td>5</td>\n",
       "      <td>3</td>\n",
       "      <td>2</td>\n",
       "      <td>2</td>\n",
       "      <td>0</td>\n",
       "      <td>...</td>\n",
       "      <td>0</td>\n",
       "      <td>2</td>\n",
       "      <td>0</td>\n",
       "      <td>4</td>\n",
       "      <td>0</td>\n",
       "      <td>0</td>\n",
       "      <td>0</td>\n",
       "      <td>5</td>\n",
       "      <td>5</td>\n",
       "      <td>0</td>\n",
       "    </tr>\n",
       "    <tr>\n",
       "      <th>268</th>\n",
       "      <td>0</td>\n",
       "      <td>2</td>\n",
       "      <td>3</td>\n",
       "      <td>201009</td>\n",
       "      <td>1</td>\n",
       "      <td>2</td>\n",
       "      <td>1</td>\n",
       "      <td>2</td>\n",
       "      <td>2</td>\n",
       "      <td>0</td>\n",
       "      <td>...</td>\n",
       "      <td>0</td>\n",
       "      <td>0</td>\n",
       "      <td>0</td>\n",
       "      <td>0</td>\n",
       "      <td>0</td>\n",
       "      <td>0</td>\n",
       "      <td>0</td>\n",
       "      <td>0</td>\n",
       "      <td>0</td>\n",
       "      <td>0</td>\n",
       "    </tr>\n",
       "  </tbody>\n",
       "</table>\n",
       "<p>269 rows × 71 columns</p>\n",
       "</div>"
      ],
      "text/plain": [
       "     1Gender of respondent  2 How old are you?   \\\n",
       "0                        1                    1   \n",
       "1                        0                    0   \n",
       "2                        0                    0   \n",
       "3                        1                    0   \n",
       "4                        0                    0   \n",
       "..                     ...                  ...   \n",
       "264                      0                    0   \n",
       "265                      0                    1   \n",
       "266                      0                    2   \n",
       "267                      0                    4   \n",
       "268                      0                    2   \n",
       "\n",
       "     3 Which city do you shop online from?  \\\n",
       "0                                        2   \n",
       "1                                        2   \n",
       "2                                        4   \n",
       "3                                        6   \n",
       "4                                        0   \n",
       "..                                     ...   \n",
       "264                                     10   \n",
       "265                                      3   \n",
       "266                                      0   \n",
       "267                                     10   \n",
       "268                                      3   \n",
       "\n",
       "     4 What is the Pin Code of where you shop online from?  \\\n",
       "0                                               110009       \n",
       "1                                               110030       \n",
       "2                                               201308       \n",
       "3                                               132001       \n",
       "4                                               530068       \n",
       "..                                                 ...       \n",
       "264                                             173212       \n",
       "265                                             201008       \n",
       "266                                             560010       \n",
       "267                                             173229       \n",
       "268                                             201009       \n",
       "\n",
       "     5 Since How Long You are Shopping Online ?  \\\n",
       "0                                             3   \n",
       "1                                             3   \n",
       "2                                             2   \n",
       "3                                             2   \n",
       "4                                             1   \n",
       "..                                          ...   \n",
       "264                                           0   \n",
       "265                                           0   \n",
       "266                                           1   \n",
       "267                                           1   \n",
       "268                                           1   \n",
       "\n",
       "     6 How many times you have made an online purchase in the past 1 year?  \\\n",
       "0                                                    2                       \n",
       "1                                                    3                       \n",
       "2                                                    3                       \n",
       "3                                                    5                       \n",
       "4                                                    0                       \n",
       "..                                                 ...                       \n",
       "264                                                  5                       \n",
       "265                                                  2                       \n",
       "266                                                  5                       \n",
       "267                                                  5                       \n",
       "268                                                  2                       \n",
       "\n",
       "     7 How do you access the internet while shopping on-line?  \\\n",
       "0                                                    0          \n",
       "1                                                    3          \n",
       "2                                                    1          \n",
       "3                                                    1          \n",
       "4                                                    3          \n",
       "..                                                 ...          \n",
       "264                                                  1          \n",
       "265                                                  1          \n",
       "266                                                  2          \n",
       "267                                                  3          \n",
       "268                                                  1          \n",
       "\n",
       "     8 Which device do you use to access the online shopping?  \\\n",
       "0                                                    0          \n",
       "1                                                    2          \n",
       "2                                                    2          \n",
       "3                                                    2          \n",
       "4                                                    2          \n",
       "..                                                 ...          \n",
       "264                                                  2          \n",
       "265                                                  2          \n",
       "266                                                  1          \n",
       "267                                                  2          \n",
       "268                                                  2          \n",
       "\n",
       "     9 What is the screen size of your mobile device?\\t\\t\\t\\t\\t\\t                                          \\\n",
       "0                                                    3                                                      \n",
       "1                                                    0                                                      \n",
       "2                                                    2                                                      \n",
       "3                                                    2                                                      \n",
       "4                                                    0                                                      \n",
       "..                                                 ...                                                      \n",
       "264                                                  2                                                      \n",
       "265                                                  3                                                      \n",
       "266                                                  3                                                      \n",
       "267                                                  2                                                      \n",
       "268                                                  2                                                      \n",
       "\n",
       "     10 What is the operating system (OS) of your device?\\t\\t\\t\\t                                            \\\n",
       "0                                                    2                                                        \n",
       "1                                                    1                                                        \n",
       "2                                                    0                                                        \n",
       "3                                                    1                                                        \n",
       "4                                                    1                                                        \n",
       "..                                                 ...                                                        \n",
       "264                                                  0                                                        \n",
       "265                                                  0                                                        \n",
       "266                                                  2                                                        \n",
       "267                                                  0                                                        \n",
       "268                                                  0                                                        \n",
       "\n",
       "     ...  Longer time to get logged in (promotion, sales period)  \\\n",
       "0    ...                                                  0        \n",
       "1    ...                                                  1        \n",
       "2    ...                                                  7        \n",
       "3    ...                                                  9        \n",
       "4    ...                                                  5        \n",
       "..   ...                                                ...        \n",
       "264  ...                                                  0        \n",
       "265  ...                                                  4        \n",
       "266  ...                                                  0        \n",
       "267  ...                                                  0        \n",
       "268  ...                                                  0        \n",
       "\n",
       "     Longer time in displaying graphics and photos (promotion, sales period)  \\\n",
       "0                                                    0                         \n",
       "1                                                    6                         \n",
       "2                                                    6                         \n",
       "3                                                    7                         \n",
       "4                                                    8                         \n",
       "..                                                 ...                         \n",
       "264                                                  0                         \n",
       "265                                                  4                         \n",
       "266                                                  9                         \n",
       "267                                                  2                         \n",
       "268                                                  0                         \n",
       "\n",
       "     Late declaration of price (promotion, sales period)  \\\n",
       "0                                                    3     \n",
       "1                                                    7     \n",
       "2                                                    4     \n",
       "3                                                    4     \n",
       "4                                                    5     \n",
       "..                                                 ...     \n",
       "264                                                  0     \n",
       "265                                                  3     \n",
       "266                                                  0     \n",
       "267                                                  0     \n",
       "268                                                  0     \n",
       "\n",
       "     Longer page loading time (promotion, sales period)  \\\n",
       "0                                                    5    \n",
       "1                                                   10    \n",
       "2                                                    7    \n",
       "3                                                    8    \n",
       "4                                                    8    \n",
       "..                                                 ...    \n",
       "264                                                  0    \n",
       "265                                                  5    \n",
       "266                                                 10    \n",
       "267                                                  4    \n",
       "268                                                  0    \n",
       "\n",
       "     Limited mode of payment on most products (promotion, sales period)  \\\n",
       "0                                                    0                    \n",
       "1                                                    7                    \n",
       "2                                                    0                    \n",
       "3                                                    5                    \n",
       "4                                                    7                    \n",
       "..                                                 ...                    \n",
       "264                                                  0                    \n",
       "265                                                  3                    \n",
       "266                                                  7                    \n",
       "267                                                  0                    \n",
       "268                                                  0                    \n",
       "\n",
       "     Longer delivery period  Change in website/Application design  \\\n",
       "0                         3                                     2   \n",
       "1                         5                                     0   \n",
       "2                         3                                     5   \n",
       "3                         3                                     1   \n",
       "4                         3                                     0   \n",
       "..                      ...                                   ...   \n",
       "264                       0                                     0   \n",
       "265                       1                                     2   \n",
       "266                       5                                     6   \n",
       "267                       0                                     0   \n",
       "268                       0                                     0   \n",
       "\n",
       "     Frequent disruption when moving from one page to another  \\\n",
       "0                                                    0          \n",
       "1                                                    4          \n",
       "2                                                    6          \n",
       "3                                                    1          \n",
       "4                                                    7          \n",
       "..                                                 ...          \n",
       "264                                                  0          \n",
       "265                                                  2          \n",
       "266                                                  7          \n",
       "267                                                  5          \n",
       "268                                                  0          \n",
       "\n",
       "     Website is as efficient as before  \\\n",
       "0                                    0   \n",
       "1                                    1   \n",
       "2                                    0   \n",
       "3                                    2   \n",
       "4                                    6   \n",
       "..                                 ...   \n",
       "264                                  0   \n",
       "265                                  4   \n",
       "266                                  0   \n",
       "267                                  5   \n",
       "268                                  0   \n",
       "\n",
       "     Which of the Indian online retailer would you recommend to a friend?  \n",
       "0                                                    6                     \n",
       "1                                                    3                     \n",
       "2                                                    5                     \n",
       "3                                                    1                     \n",
       "4                                                    3                     \n",
       "..                                                 ...                     \n",
       "264                                                  0                     \n",
       "265                                                  6                     \n",
       "266                                                  0                     \n",
       "267                                                  0                     \n",
       "268                                                  0                     \n",
       "\n",
       "[269 rows x 71 columns]"
      ]
     },
     "execution_count": 9,
     "metadata": {},
     "output_type": "execute_result"
    }
   ],
   "source": [
    "df"
   ]
  },
  {
   "cell_type": "code",
   "execution_count": 10,
   "id": "6ed537b2",
   "metadata": {},
   "outputs": [
    {
     "data": {
      "text/plain": [
       "2     58\n",
       "4     43\n",
       "9     40\n",
       "0     37\n",
       "6     27\n",
       "3     18\n",
       "10    18\n",
       "5     12\n",
       "7      9\n",
       "8      5\n",
       "1      2\n",
       "Name: 3 Which city do you shop online from?, dtype: int64"
      ]
     },
     "execution_count": 10,
     "metadata": {},
     "output_type": "execute_result"
    }
   ],
   "source": [
    "df['3 Which city do you shop online from?'].value_counts()"
   ]
  },
  {
   "cell_type": "markdown",
   "id": "00a94320",
   "metadata": {},
   "source": [
    "people from the city delhi shoping more than other city. 58 people are shoping who belongs from delhi "
   ]
  },
  {
   "cell_type": "code",
   "execution_count": 11,
   "id": "c11d1822",
   "metadata": {},
   "outputs": [
    {
     "data": {
      "text/html": [
       "<div>\n",
       "<style scoped>\n",
       "    .dataframe tbody tr th:only-of-type {\n",
       "        vertical-align: middle;\n",
       "    }\n",
       "\n",
       "    .dataframe tbody tr th {\n",
       "        vertical-align: top;\n",
       "    }\n",
       "\n",
       "    .dataframe thead th {\n",
       "        text-align: right;\n",
       "    }\n",
       "</style>\n",
       "<table border=\"1\" class=\"dataframe\">\n",
       "  <thead>\n",
       "    <tr style=\"text-align: right;\">\n",
       "      <th></th>\n",
       "      <th>1Gender of respondent</th>\n",
       "      <th>2 How old are you?</th>\n",
       "      <th>3 Which city do you shop online from?</th>\n",
       "      <th>4 What is the Pin Code of where you shop online from?</th>\n",
       "      <th>5 Since How Long You are Shopping Online ?</th>\n",
       "      <th>6 How many times you have made an online purchase in the past 1 year?</th>\n",
       "      <th>7 How do you access the internet while shopping on-line?</th>\n",
       "      <th>8 Which device do you use to access the online shopping?</th>\n",
       "      <th>9 What is the screen size of your mobile device?\\t\\t\\t\\t\\t\\t</th>\n",
       "      <th>10 What is the operating system (OS) of your device?\\t\\t\\t\\t</th>\n",
       "      <th>...</th>\n",
       "      <th>Longer time to get logged in (promotion, sales period)</th>\n",
       "      <th>Longer time in displaying graphics and photos (promotion, sales period)</th>\n",
       "      <th>Late declaration of price (promotion, sales period)</th>\n",
       "      <th>Longer page loading time (promotion, sales period)</th>\n",
       "      <th>Limited mode of payment on most products (promotion, sales period)</th>\n",
       "      <th>Longer delivery period</th>\n",
       "      <th>Change in website/Application design</th>\n",
       "      <th>Frequent disruption when moving from one page to another</th>\n",
       "      <th>Website is as efficient as before</th>\n",
       "      <th>Which of the Indian online retailer would you recommend to a friend?</th>\n",
       "    </tr>\n",
       "  </thead>\n",
       "  <tbody>\n",
       "    <tr>\n",
       "      <th>count</th>\n",
       "      <td>269.000000</td>\n",
       "      <td>269.000000</td>\n",
       "      <td>269.000000</td>\n",
       "      <td>269.000000</td>\n",
       "      <td>269.000000</td>\n",
       "      <td>269.000000</td>\n",
       "      <td>269.000000</td>\n",
       "      <td>269.000000</td>\n",
       "      <td>269.000000</td>\n",
       "      <td>269.000000</td>\n",
       "      <td>...</td>\n",
       "      <td>269.000000</td>\n",
       "      <td>269.000000</td>\n",
       "      <td>269.000000</td>\n",
       "      <td>269.000000</td>\n",
       "      <td>269.000000</td>\n",
       "      <td>269.000000</td>\n",
       "      <td>269.000000</td>\n",
       "      <td>269.000000</td>\n",
       "      <td>269.000000</td>\n",
       "      <td>269.000000</td>\n",
       "    </tr>\n",
       "    <tr>\n",
       "      <th>mean</th>\n",
       "      <td>0.327138</td>\n",
       "      <td>1.330855</td>\n",
       "      <td>4.494424</td>\n",
       "      <td>220465.747212</td>\n",
       "      <td>2.323420</td>\n",
       "      <td>3.237918</td>\n",
       "      <td>2.078067</td>\n",
       "      <td>1.501859</td>\n",
       "      <td>2.256506</td>\n",
       "      <td>1.137546</td>\n",
       "      <td>...</td>\n",
       "      <td>4.044610</td>\n",
       "      <td>4.063197</td>\n",
       "      <td>3.843866</td>\n",
       "      <td>5.988848</td>\n",
       "      <td>3.717472</td>\n",
       "      <td>2.736059</td>\n",
       "      <td>2.189591</td>\n",
       "      <td>3.587361</td>\n",
       "      <td>2.133829</td>\n",
       "      <td>2.397770</td>\n",
       "    </tr>\n",
       "    <tr>\n",
       "      <th>std</th>\n",
       "      <td>0.470042</td>\n",
       "      <td>1.183774</td>\n",
       "      <td>3.187687</td>\n",
       "      <td>140524.341051</td>\n",
       "      <td>1.176357</td>\n",
       "      <td>1.739331</td>\n",
       "      <td>0.715919</td>\n",
       "      <td>0.751240</td>\n",
       "      <td>0.944942</td>\n",
       "      <td>0.867985</td>\n",
       "      <td>...</td>\n",
       "      <td>3.343218</td>\n",
       "      <td>3.177536</td>\n",
       "      <td>2.103162</td>\n",
       "      <td>2.855321</td>\n",
       "      <td>2.853728</td>\n",
       "      <td>1.725857</td>\n",
       "      <td>2.152169</td>\n",
       "      <td>2.557690</td>\n",
       "      <td>2.171029</td>\n",
       "      <td>2.362991</td>\n",
       "    </tr>\n",
       "    <tr>\n",
       "      <th>min</th>\n",
       "      <td>0.000000</td>\n",
       "      <td>0.000000</td>\n",
       "      <td>0.000000</td>\n",
       "      <td>110008.000000</td>\n",
       "      <td>0.000000</td>\n",
       "      <td>0.000000</td>\n",
       "      <td>0.000000</td>\n",
       "      <td>0.000000</td>\n",
       "      <td>0.000000</td>\n",
       "      <td>0.000000</td>\n",
       "      <td>...</td>\n",
       "      <td>0.000000</td>\n",
       "      <td>0.000000</td>\n",
       "      <td>0.000000</td>\n",
       "      <td>0.000000</td>\n",
       "      <td>0.000000</td>\n",
       "      <td>0.000000</td>\n",
       "      <td>0.000000</td>\n",
       "      <td>0.000000</td>\n",
       "      <td>0.000000</td>\n",
       "      <td>0.000000</td>\n",
       "    </tr>\n",
       "    <tr>\n",
       "      <th>25%</th>\n",
       "      <td>0.000000</td>\n",
       "      <td>0.000000</td>\n",
       "      <td>2.000000</td>\n",
       "      <td>122018.000000</td>\n",
       "      <td>1.000000</td>\n",
       "      <td>2.000000</td>\n",
       "      <td>2.000000</td>\n",
       "      <td>1.000000</td>\n",
       "      <td>2.000000</td>\n",
       "      <td>0.000000</td>\n",
       "      <td>...</td>\n",
       "      <td>1.000000</td>\n",
       "      <td>1.000000</td>\n",
       "      <td>3.000000</td>\n",
       "      <td>4.000000</td>\n",
       "      <td>1.000000</td>\n",
       "      <td>1.000000</td>\n",
       "      <td>0.000000</td>\n",
       "      <td>1.000000</td>\n",
       "      <td>0.000000</td>\n",
       "      <td>0.000000</td>\n",
       "    </tr>\n",
       "    <tr>\n",
       "      <th>50%</th>\n",
       "      <td>0.000000</td>\n",
       "      <td>1.000000</td>\n",
       "      <td>4.000000</td>\n",
       "      <td>201303.000000</td>\n",
       "      <td>3.000000</td>\n",
       "      <td>3.000000</td>\n",
       "      <td>2.000000</td>\n",
       "      <td>2.000000</td>\n",
       "      <td>2.000000</td>\n",
       "      <td>1.000000</td>\n",
       "      <td>...</td>\n",
       "      <td>3.000000</td>\n",
       "      <td>4.000000</td>\n",
       "      <td>4.000000</td>\n",
       "      <td>7.000000</td>\n",
       "      <td>3.000000</td>\n",
       "      <td>3.000000</td>\n",
       "      <td>1.000000</td>\n",
       "      <td>4.000000</td>\n",
       "      <td>1.000000</td>\n",
       "      <td>1.000000</td>\n",
       "    </tr>\n",
       "    <tr>\n",
       "      <th>75%</th>\n",
       "      <td>1.000000</td>\n",
       "      <td>2.000000</td>\n",
       "      <td>7.000000</td>\n",
       "      <td>201310.000000</td>\n",
       "      <td>3.000000</td>\n",
       "      <td>5.000000</td>\n",
       "      <td>3.000000</td>\n",
       "      <td>2.000000</td>\n",
       "      <td>3.000000</td>\n",
       "      <td>2.000000</td>\n",
       "      <td>...</td>\n",
       "      <td>7.000000</td>\n",
       "      <td>7.000000</td>\n",
       "      <td>5.000000</td>\n",
       "      <td>8.000000</td>\n",
       "      <td>7.000000</td>\n",
       "      <td>4.000000</td>\n",
       "      <td>5.000000</td>\n",
       "      <td>6.000000</td>\n",
       "      <td>4.000000</td>\n",
       "      <td>5.000000</td>\n",
       "    </tr>\n",
       "    <tr>\n",
       "      <th>max</th>\n",
       "      <td>1.000000</td>\n",
       "      <td>4.000000</td>\n",
       "      <td>10.000000</td>\n",
       "      <td>560037.000000</td>\n",
       "      <td>4.000000</td>\n",
       "      <td>5.000000</td>\n",
       "      <td>3.000000</td>\n",
       "      <td>3.000000</td>\n",
       "      <td>3.000000</td>\n",
       "      <td>2.000000</td>\n",
       "      <td>...</td>\n",
       "      <td>9.000000</td>\n",
       "      <td>9.000000</td>\n",
       "      <td>7.000000</td>\n",
       "      <td>10.000000</td>\n",
       "      <td>7.000000</td>\n",
       "      <td>5.000000</td>\n",
       "      <td>6.000000</td>\n",
       "      <td>7.000000</td>\n",
       "      <td>7.000000</td>\n",
       "      <td>7.000000</td>\n",
       "    </tr>\n",
       "  </tbody>\n",
       "</table>\n",
       "<p>8 rows × 71 columns</p>\n",
       "</div>"
      ],
      "text/plain": [
       "       1Gender of respondent  2 How old are you?   \\\n",
       "count             269.000000           269.000000   \n",
       "mean                0.327138             1.330855   \n",
       "std                 0.470042             1.183774   \n",
       "min                 0.000000             0.000000   \n",
       "25%                 0.000000             0.000000   \n",
       "50%                 0.000000             1.000000   \n",
       "75%                 1.000000             2.000000   \n",
       "max                 1.000000             4.000000   \n",
       "\n",
       "       3 Which city do you shop online from?  \\\n",
       "count                             269.000000   \n",
       "mean                                4.494424   \n",
       "std                                 3.187687   \n",
       "min                                 0.000000   \n",
       "25%                                 2.000000   \n",
       "50%                                 4.000000   \n",
       "75%                                 7.000000   \n",
       "max                                10.000000   \n",
       "\n",
       "       4 What is the Pin Code of where you shop online from?  \\\n",
       "count                                         269.000000       \n",
       "mean                                       220465.747212       \n",
       "std                                        140524.341051       \n",
       "min                                        110008.000000       \n",
       "25%                                        122018.000000       \n",
       "50%                                        201303.000000       \n",
       "75%                                        201310.000000       \n",
       "max                                        560037.000000       \n",
       "\n",
       "       5 Since How Long You are Shopping Online ?  \\\n",
       "count                                  269.000000   \n",
       "mean                                     2.323420   \n",
       "std                                      1.176357   \n",
       "min                                      0.000000   \n",
       "25%                                      1.000000   \n",
       "50%                                      3.000000   \n",
       "75%                                      3.000000   \n",
       "max                                      4.000000   \n",
       "\n",
       "       6 How many times you have made an online purchase in the past 1 year?  \\\n",
       "count                                         269.000000                       \n",
       "mean                                            3.237918                       \n",
       "std                                             1.739331                       \n",
       "min                                             0.000000                       \n",
       "25%                                             2.000000                       \n",
       "50%                                             3.000000                       \n",
       "75%                                             5.000000                       \n",
       "max                                             5.000000                       \n",
       "\n",
       "       7 How do you access the internet while shopping on-line?  \\\n",
       "count                                         269.000000          \n",
       "mean                                            2.078067          \n",
       "std                                             0.715919          \n",
       "min                                             0.000000          \n",
       "25%                                             2.000000          \n",
       "50%                                             2.000000          \n",
       "75%                                             3.000000          \n",
       "max                                             3.000000          \n",
       "\n",
       "       8 Which device do you use to access the online shopping?  \\\n",
       "count                                         269.000000          \n",
       "mean                                            1.501859          \n",
       "std                                             0.751240          \n",
       "min                                             0.000000          \n",
       "25%                                             1.000000          \n",
       "50%                                             2.000000          \n",
       "75%                                             2.000000          \n",
       "max                                             3.000000          \n",
       "\n",
       "       9 What is the screen size of your mobile device?\\t\\t\\t\\t\\t\\t                                          \\\n",
       "count                                         269.000000                                                      \n",
       "mean                                            2.256506                                                      \n",
       "std                                             0.944942                                                      \n",
       "min                                             0.000000                                                      \n",
       "25%                                             2.000000                                                      \n",
       "50%                                             2.000000                                                      \n",
       "75%                                             3.000000                                                      \n",
       "max                                             3.000000                                                      \n",
       "\n",
       "       10 What is the operating system (OS) of your device?\\t\\t\\t\\t                                            \\\n",
       "count                                         269.000000                                                        \n",
       "mean                                            1.137546                                                        \n",
       "std                                             0.867985                                                        \n",
       "min                                             0.000000                                                        \n",
       "25%                                             0.000000                                                        \n",
       "50%                                             1.000000                                                        \n",
       "75%                                             2.000000                                                        \n",
       "max                                             2.000000                                                        \n",
       "\n",
       "       ...  Longer time to get logged in (promotion, sales period)  \\\n",
       "count  ...                                         269.000000        \n",
       "mean   ...                                           4.044610        \n",
       "std    ...                                           3.343218        \n",
       "min    ...                                           0.000000        \n",
       "25%    ...                                           1.000000        \n",
       "50%    ...                                           3.000000        \n",
       "75%    ...                                           7.000000        \n",
       "max    ...                                           9.000000        \n",
       "\n",
       "       Longer time in displaying graphics and photos (promotion, sales period)  \\\n",
       "count                                         269.000000                         \n",
       "mean                                            4.063197                         \n",
       "std                                             3.177536                         \n",
       "min                                             0.000000                         \n",
       "25%                                             1.000000                         \n",
       "50%                                             4.000000                         \n",
       "75%                                             7.000000                         \n",
       "max                                             9.000000                         \n",
       "\n",
       "       Late declaration of price (promotion, sales period)  \\\n",
       "count                                         269.000000     \n",
       "mean                                            3.843866     \n",
       "std                                             2.103162     \n",
       "min                                             0.000000     \n",
       "25%                                             3.000000     \n",
       "50%                                             4.000000     \n",
       "75%                                             5.000000     \n",
       "max                                             7.000000     \n",
       "\n",
       "       Longer page loading time (promotion, sales period)  \\\n",
       "count                                         269.000000    \n",
       "mean                                            5.988848    \n",
       "std                                             2.855321    \n",
       "min                                             0.000000    \n",
       "25%                                             4.000000    \n",
       "50%                                             7.000000    \n",
       "75%                                             8.000000    \n",
       "max                                            10.000000    \n",
       "\n",
       "       Limited mode of payment on most products (promotion, sales period)  \\\n",
       "count                                         269.000000                    \n",
       "mean                                            3.717472                    \n",
       "std                                             2.853728                    \n",
       "min                                             0.000000                    \n",
       "25%                                             1.000000                    \n",
       "50%                                             3.000000                    \n",
       "75%                                             7.000000                    \n",
       "max                                             7.000000                    \n",
       "\n",
       "       Longer delivery period  Change in website/Application design  \\\n",
       "count              269.000000                            269.000000   \n",
       "mean                 2.736059                              2.189591   \n",
       "std                  1.725857                              2.152169   \n",
       "min                  0.000000                              0.000000   \n",
       "25%                  1.000000                              0.000000   \n",
       "50%                  3.000000                              1.000000   \n",
       "75%                  4.000000                              5.000000   \n",
       "max                  5.000000                              6.000000   \n",
       "\n",
       "       Frequent disruption when moving from one page to another  \\\n",
       "count                                         269.000000          \n",
       "mean                                            3.587361          \n",
       "std                                             2.557690          \n",
       "min                                             0.000000          \n",
       "25%                                             1.000000          \n",
       "50%                                             4.000000          \n",
       "75%                                             6.000000          \n",
       "max                                             7.000000          \n",
       "\n",
       "       Website is as efficient as before  \\\n",
       "count                         269.000000   \n",
       "mean                            2.133829   \n",
       "std                             2.171029   \n",
       "min                             0.000000   \n",
       "25%                             0.000000   \n",
       "50%                             1.000000   \n",
       "75%                             4.000000   \n",
       "max                             7.000000   \n",
       "\n",
       "       Which of the Indian online retailer would you recommend to a friend?  \n",
       "count                                         269.000000                     \n",
       "mean                                            2.397770                     \n",
       "std                                             2.362991                     \n",
       "min                                             0.000000                     \n",
       "25%                                             0.000000                     \n",
       "50%                                             1.000000                     \n",
       "75%                                             5.000000                     \n",
       "max                                             7.000000                     \n",
       "\n",
       "[8 rows x 71 columns]"
      ]
     },
     "execution_count": 11,
     "metadata": {},
     "output_type": "execute_result"
    }
   ],
   "source": [
    "df.describe()"
   ]
  },
  {
   "cell_type": "code",
   "execution_count": 12,
   "id": "43840f47",
   "metadata": {},
   "outputs": [
    {
     "data": {
      "text/html": [
       "<div>\n",
       "<style scoped>\n",
       "    .dataframe tbody tr th:only-of-type {\n",
       "        vertical-align: middle;\n",
       "    }\n",
       "\n",
       "    .dataframe tbody tr th {\n",
       "        vertical-align: top;\n",
       "    }\n",
       "\n",
       "    .dataframe thead th {\n",
       "        text-align: right;\n",
       "    }\n",
       "</style>\n",
       "<table border=\"1\" class=\"dataframe\">\n",
       "  <thead>\n",
       "    <tr style=\"text-align: right;\">\n",
       "      <th></th>\n",
       "      <th>1Gender of respondent</th>\n",
       "      <th>2 How old are you?</th>\n",
       "      <th>3 Which city do you shop online from?</th>\n",
       "      <th>4 What is the Pin Code of where you shop online from?</th>\n",
       "      <th>5 Since How Long You are Shopping Online ?</th>\n",
       "      <th>6 How many times you have made an online purchase in the past 1 year?</th>\n",
       "      <th>7 How do you access the internet while shopping on-line?</th>\n",
       "      <th>8 Which device do you use to access the online shopping?</th>\n",
       "      <th>9 What is the screen size of your mobile device?\\t\\t\\t\\t\\t\\t</th>\n",
       "      <th>10 What is the operating system (OS) of your device?\\t\\t\\t\\t</th>\n",
       "      <th>...</th>\n",
       "      <th>Longer time to get logged in (promotion, sales period)</th>\n",
       "      <th>Longer time in displaying graphics and photos (promotion, sales period)</th>\n",
       "      <th>Late declaration of price (promotion, sales period)</th>\n",
       "      <th>Longer page loading time (promotion, sales period)</th>\n",
       "      <th>Limited mode of payment on most products (promotion, sales period)</th>\n",
       "      <th>Longer delivery period</th>\n",
       "      <th>Change in website/Application design</th>\n",
       "      <th>Frequent disruption when moving from one page to another</th>\n",
       "      <th>Website is as efficient as before</th>\n",
       "      <th>Which of the Indian online retailer would you recommend to a friend?</th>\n",
       "    </tr>\n",
       "  </thead>\n",
       "  <tbody>\n",
       "    <tr>\n",
       "      <th>1Gender of respondent</th>\n",
       "      <td>1.000000</td>\n",
       "      <td>0.046169</td>\n",
       "      <td>0.080912</td>\n",
       "      <td>-0.260365</td>\n",
       "      <td>-0.057096</td>\n",
       "      <td>0.077876</td>\n",
       "      <td>-0.309029</td>\n",
       "      <td>0.061673</td>\n",
       "      <td>0.028794</td>\n",
       "      <td>-0.019243</td>\n",
       "      <td>...</td>\n",
       "      <td>-0.101925</td>\n",
       "      <td>-0.228744</td>\n",
       "      <td>-0.061374</td>\n",
       "      <td>0.008289</td>\n",
       "      <td>-0.158941</td>\n",
       "      <td>0.060838</td>\n",
       "      <td>-0.164818</td>\n",
       "      <td>-0.256638</td>\n",
       "      <td>0.055663</td>\n",
       "      <td>-0.003372</td>\n",
       "    </tr>\n",
       "    <tr>\n",
       "      <th>2 How old are you?</th>\n",
       "      <td>0.046169</td>\n",
       "      <td>1.000000</td>\n",
       "      <td>0.113712</td>\n",
       "      <td>-0.120704</td>\n",
       "      <td>-0.087847</td>\n",
       "      <td>0.309575</td>\n",
       "      <td>0.255594</td>\n",
       "      <td>0.022383</td>\n",
       "      <td>-0.006101</td>\n",
       "      <td>-0.048087</td>\n",
       "      <td>...</td>\n",
       "      <td>-0.281877</td>\n",
       "      <td>-0.095850</td>\n",
       "      <td>-0.064601</td>\n",
       "      <td>-0.128064</td>\n",
       "      <td>-0.198658</td>\n",
       "      <td>-0.156173</td>\n",
       "      <td>-0.134558</td>\n",
       "      <td>-0.018825</td>\n",
       "      <td>-0.008582</td>\n",
       "      <td>-0.135263</td>\n",
       "    </tr>\n",
       "    <tr>\n",
       "      <th>3 Which city do you shop online from?</th>\n",
       "      <td>0.080912</td>\n",
       "      <td>0.113712</td>\n",
       "      <td>1.000000</td>\n",
       "      <td>-0.416597</td>\n",
       "      <td>-0.138329</td>\n",
       "      <td>0.173871</td>\n",
       "      <td>-0.010436</td>\n",
       "      <td>0.020650</td>\n",
       "      <td>0.199296</td>\n",
       "      <td>-0.051642</td>\n",
       "      <td>...</td>\n",
       "      <td>-0.065450</td>\n",
       "      <td>-0.115453</td>\n",
       "      <td>-0.293441</td>\n",
       "      <td>-0.104340</td>\n",
       "      <td>-0.263921</td>\n",
       "      <td>-0.123369</td>\n",
       "      <td>0.000427</td>\n",
       "      <td>0.019167</td>\n",
       "      <td>0.007117</td>\n",
       "      <td>-0.142123</td>\n",
       "    </tr>\n",
       "    <tr>\n",
       "      <th>4 What is the Pin Code of where you shop online from?</th>\n",
       "      <td>-0.260365</td>\n",
       "      <td>-0.120704</td>\n",
       "      <td>-0.416597</td>\n",
       "      <td>1.000000</td>\n",
       "      <td>-0.090049</td>\n",
       "      <td>-0.263685</td>\n",
       "      <td>0.005511</td>\n",
       "      <td>-0.004980</td>\n",
       "      <td>-0.211198</td>\n",
       "      <td>-0.053901</td>\n",
       "      <td>...</td>\n",
       "      <td>-0.085194</td>\n",
       "      <td>0.089605</td>\n",
       "      <td>-0.070046</td>\n",
       "      <td>-0.026817</td>\n",
       "      <td>0.054532</td>\n",
       "      <td>-0.078660</td>\n",
       "      <td>-0.058715</td>\n",
       "      <td>0.039936</td>\n",
       "      <td>0.037662</td>\n",
       "      <td>-0.045388</td>\n",
       "    </tr>\n",
       "    <tr>\n",
       "      <th>5 Since How Long You are Shopping Online ?</th>\n",
       "      <td>-0.057096</td>\n",
       "      <td>-0.087847</td>\n",
       "      <td>-0.138329</td>\n",
       "      <td>-0.090049</td>\n",
       "      <td>1.000000</td>\n",
       "      <td>0.013315</td>\n",
       "      <td>0.226883</td>\n",
       "      <td>-0.125240</td>\n",
       "      <td>0.139924</td>\n",
       "      <td>0.274201</td>\n",
       "      <td>...</td>\n",
       "      <td>0.154763</td>\n",
       "      <td>-0.063386</td>\n",
       "      <td>0.305533</td>\n",
       "      <td>0.086616</td>\n",
       "      <td>0.159591</td>\n",
       "      <td>0.218641</td>\n",
       "      <td>0.220347</td>\n",
       "      <td>0.025919</td>\n",
       "      <td>-0.024316</td>\n",
       "      <td>0.136106</td>\n",
       "    </tr>\n",
       "    <tr>\n",
       "      <th>...</th>\n",
       "      <td>...</td>\n",
       "      <td>...</td>\n",
       "      <td>...</td>\n",
       "      <td>...</td>\n",
       "      <td>...</td>\n",
       "      <td>...</td>\n",
       "      <td>...</td>\n",
       "      <td>...</td>\n",
       "      <td>...</td>\n",
       "      <td>...</td>\n",
       "      <td>...</td>\n",
       "      <td>...</td>\n",
       "      <td>...</td>\n",
       "      <td>...</td>\n",
       "      <td>...</td>\n",
       "      <td>...</td>\n",
       "      <td>...</td>\n",
       "      <td>...</td>\n",
       "      <td>...</td>\n",
       "      <td>...</td>\n",
       "      <td>...</td>\n",
       "    </tr>\n",
       "    <tr>\n",
       "      <th>Longer delivery period</th>\n",
       "      <td>0.060838</td>\n",
       "      <td>-0.156173</td>\n",
       "      <td>-0.123369</td>\n",
       "      <td>-0.078660</td>\n",
       "      <td>0.218641</td>\n",
       "      <td>-0.130651</td>\n",
       "      <td>0.101297</td>\n",
       "      <td>-0.104665</td>\n",
       "      <td>0.048533</td>\n",
       "      <td>0.397953</td>\n",
       "      <td>...</td>\n",
       "      <td>0.268484</td>\n",
       "      <td>0.365030</td>\n",
       "      <td>0.598200</td>\n",
       "      <td>0.797480</td>\n",
       "      <td>0.593167</td>\n",
       "      <td>1.000000</td>\n",
       "      <td>0.329965</td>\n",
       "      <td>0.475654</td>\n",
       "      <td>0.247471</td>\n",
       "      <td>0.428419</td>\n",
       "    </tr>\n",
       "    <tr>\n",
       "      <th>Change in website/Application design</th>\n",
       "      <td>-0.164818</td>\n",
       "      <td>-0.134558</td>\n",
       "      <td>0.000427</td>\n",
       "      <td>-0.058715</td>\n",
       "      <td>0.220347</td>\n",
       "      <td>0.007841</td>\n",
       "      <td>0.147770</td>\n",
       "      <td>-0.052146</td>\n",
       "      <td>0.418180</td>\n",
       "      <td>0.059894</td>\n",
       "      <td>...</td>\n",
       "      <td>0.370649</td>\n",
       "      <td>0.152655</td>\n",
       "      <td>0.035417</td>\n",
       "      <td>0.225618</td>\n",
       "      <td>0.214103</td>\n",
       "      <td>0.329965</td>\n",
       "      <td>1.000000</td>\n",
       "      <td>0.436573</td>\n",
       "      <td>-0.189925</td>\n",
       "      <td>0.423877</td>\n",
       "    </tr>\n",
       "    <tr>\n",
       "      <th>Frequent disruption when moving from one page to another</th>\n",
       "      <td>-0.256638</td>\n",
       "      <td>-0.018825</td>\n",
       "      <td>0.019167</td>\n",
       "      <td>0.039936</td>\n",
       "      <td>0.025919</td>\n",
       "      <td>-0.127148</td>\n",
       "      <td>0.349813</td>\n",
       "      <td>0.084876</td>\n",
       "      <td>-0.065658</td>\n",
       "      <td>0.111380</td>\n",
       "      <td>...</td>\n",
       "      <td>0.274454</td>\n",
       "      <td>0.603750</td>\n",
       "      <td>0.332032</td>\n",
       "      <td>0.614528</td>\n",
       "      <td>0.506431</td>\n",
       "      <td>0.475654</td>\n",
       "      <td>0.436573</td>\n",
       "      <td>1.000000</td>\n",
       "      <td>0.363440</td>\n",
       "      <td>0.122953</td>\n",
       "    </tr>\n",
       "    <tr>\n",
       "      <th>Website is as efficient as before</th>\n",
       "      <td>0.055663</td>\n",
       "      <td>-0.008582</td>\n",
       "      <td>0.007117</td>\n",
       "      <td>0.037662</td>\n",
       "      <td>-0.024316</td>\n",
       "      <td>-0.124076</td>\n",
       "      <td>0.266932</td>\n",
       "      <td>0.333868</td>\n",
       "      <td>-0.100462</td>\n",
       "      <td>-0.128611</td>\n",
       "      <td>...</td>\n",
       "      <td>0.122555</td>\n",
       "      <td>-0.010967</td>\n",
       "      <td>0.123087</td>\n",
       "      <td>0.319264</td>\n",
       "      <td>0.275338</td>\n",
       "      <td>0.247471</td>\n",
       "      <td>-0.189925</td>\n",
       "      <td>0.363440</td>\n",
       "      <td>1.000000</td>\n",
       "      <td>0.252154</td>\n",
       "    </tr>\n",
       "    <tr>\n",
       "      <th>Which of the Indian online retailer would you recommend to a friend?</th>\n",
       "      <td>-0.003372</td>\n",
       "      <td>-0.135263</td>\n",
       "      <td>-0.142123</td>\n",
       "      <td>-0.045388</td>\n",
       "      <td>0.136106</td>\n",
       "      <td>-0.152028</td>\n",
       "      <td>0.041129</td>\n",
       "      <td>0.099425</td>\n",
       "      <td>0.074453</td>\n",
       "      <td>-0.159579</td>\n",
       "      <td>...</td>\n",
       "      <td>0.261774</td>\n",
       "      <td>-0.140519</td>\n",
       "      <td>0.231029</td>\n",
       "      <td>0.278281</td>\n",
       "      <td>0.028901</td>\n",
       "      <td>0.428419</td>\n",
       "      <td>0.423877</td>\n",
       "      <td>0.122953</td>\n",
       "      <td>0.252154</td>\n",
       "      <td>1.000000</td>\n",
       "    </tr>\n",
       "  </tbody>\n",
       "</table>\n",
       "<p>71 rows × 71 columns</p>\n",
       "</div>"
      ],
      "text/plain": [
       "                                                    1Gender of respondent  \\\n",
       "1Gender of respondent                                            1.000000   \n",
       "2 How old are you?                                               0.046169   \n",
       "3 Which city do you shop online from?                            0.080912   \n",
       "4 What is the Pin Code of where you shop online...              -0.260365   \n",
       "5 Since How Long You are Shopping Online ?                      -0.057096   \n",
       "...                                                                   ...   \n",
       "Longer delivery period                                           0.060838   \n",
       "Change in website/Application design                            -0.164818   \n",
       "Frequent disruption when moving from one page t...              -0.256638   \n",
       "Website is as efficient as before                                0.055663   \n",
       "Which of the Indian online retailer would you r...              -0.003372   \n",
       "\n",
       "                                                    2 How old are you?   \\\n",
       "1Gender of respondent                                          0.046169   \n",
       "2 How old are you?                                             1.000000   \n",
       "3 Which city do you shop online from?                          0.113712   \n",
       "4 What is the Pin Code of where you shop online...            -0.120704   \n",
       "5 Since How Long You are Shopping Online ?                    -0.087847   \n",
       "...                                                                 ...   \n",
       "Longer delivery period                                        -0.156173   \n",
       "Change in website/Application design                          -0.134558   \n",
       "Frequent disruption when moving from one page t...            -0.018825   \n",
       "Website is as efficient as before                             -0.008582   \n",
       "Which of the Indian online retailer would you r...            -0.135263   \n",
       "\n",
       "                                                    3 Which city do you shop online from?  \\\n",
       "1Gender of respondent                                                            0.080912   \n",
       "2 How old are you?                                                               0.113712   \n",
       "3 Which city do you shop online from?                                            1.000000   \n",
       "4 What is the Pin Code of where you shop online...                              -0.416597   \n",
       "5 Since How Long You are Shopping Online ?                                      -0.138329   \n",
       "...                                                                                   ...   \n",
       "Longer delivery period                                                          -0.123369   \n",
       "Change in website/Application design                                             0.000427   \n",
       "Frequent disruption when moving from one page t...                               0.019167   \n",
       "Website is as efficient as before                                                0.007117   \n",
       "Which of the Indian online retailer would you r...                              -0.142123   \n",
       "\n",
       "                                                    4 What is the Pin Code of where you shop online from?  \\\n",
       "1Gender of respondent                                                                       -0.260365       \n",
       "2 How old are you?                                                                          -0.120704       \n",
       "3 Which city do you shop online from?                                                       -0.416597       \n",
       "4 What is the Pin Code of where you shop online...                                           1.000000       \n",
       "5 Since How Long You are Shopping Online ?                                                  -0.090049       \n",
       "...                                                                                               ...       \n",
       "Longer delivery period                                                                      -0.078660       \n",
       "Change in website/Application design                                                        -0.058715       \n",
       "Frequent disruption when moving from one page t...                                           0.039936       \n",
       "Website is as efficient as before                                                            0.037662       \n",
       "Which of the Indian online retailer would you r...                                          -0.045388       \n",
       "\n",
       "                                                    5 Since How Long You are Shopping Online ?  \\\n",
       "1Gender of respondent                                                                -0.057096   \n",
       "2 How old are you?                                                                   -0.087847   \n",
       "3 Which city do you shop online from?                                                -0.138329   \n",
       "4 What is the Pin Code of where you shop online...                                   -0.090049   \n",
       "5 Since How Long You are Shopping Online ?                                            1.000000   \n",
       "...                                                                                        ...   \n",
       "Longer delivery period                                                                0.218641   \n",
       "Change in website/Application design                                                  0.220347   \n",
       "Frequent disruption when moving from one page t...                                    0.025919   \n",
       "Website is as efficient as before                                                    -0.024316   \n",
       "Which of the Indian online retailer would you r...                                    0.136106   \n",
       "\n",
       "                                                    6 How many times you have made an online purchase in the past 1 year?  \\\n",
       "1Gender of respondent                                                                        0.077876                       \n",
       "2 How old are you?                                                                           0.309575                       \n",
       "3 Which city do you shop online from?                                                        0.173871                       \n",
       "4 What is the Pin Code of where you shop online...                                          -0.263685                       \n",
       "5 Since How Long You are Shopping Online ?                                                   0.013315                       \n",
       "...                                                                                               ...                       \n",
       "Longer delivery period                                                                      -0.130651                       \n",
       "Change in website/Application design                                                         0.007841                       \n",
       "Frequent disruption when moving from one page t...                                          -0.127148                       \n",
       "Website is as efficient as before                                                           -0.124076                       \n",
       "Which of the Indian online retailer would you r...                                          -0.152028                       \n",
       "\n",
       "                                                    7 How do you access the internet while shopping on-line?  \\\n",
       "1Gender of respondent                                                                       -0.309029          \n",
       "2 How old are you?                                                                           0.255594          \n",
       "3 Which city do you shop online from?                                                       -0.010436          \n",
       "4 What is the Pin Code of where you shop online...                                           0.005511          \n",
       "5 Since How Long You are Shopping Online ?                                                   0.226883          \n",
       "...                                                                                               ...          \n",
       "Longer delivery period                                                                       0.101297          \n",
       "Change in website/Application design                                                         0.147770          \n",
       "Frequent disruption when moving from one page t...                                           0.349813          \n",
       "Website is as efficient as before                                                            0.266932          \n",
       "Which of the Indian online retailer would you r...                                           0.041129          \n",
       "\n",
       "                                                    8 Which device do you use to access the online shopping?  \\\n",
       "1Gender of respondent                                                                        0.061673          \n",
       "2 How old are you?                                                                           0.022383          \n",
       "3 Which city do you shop online from?                                                        0.020650          \n",
       "4 What is the Pin Code of where you shop online...                                          -0.004980          \n",
       "5 Since How Long You are Shopping Online ?                                                  -0.125240          \n",
       "...                                                                                               ...          \n",
       "Longer delivery period                                                                      -0.104665          \n",
       "Change in website/Application design                                                        -0.052146          \n",
       "Frequent disruption when moving from one page t...                                           0.084876          \n",
       "Website is as efficient as before                                                            0.333868          \n",
       "Which of the Indian online retailer would you r...                                           0.099425          \n",
       "\n",
       "                                                    9 What is the screen size of your mobile device?\\t\\t\\t\\t\\t\\t                                          \\\n",
       "1Gender of respondent                                                                        0.028794                                                      \n",
       "2 How old are you?                                                                          -0.006101                                                      \n",
       "3 Which city do you shop online from?                                                        0.199296                                                      \n",
       "4 What is the Pin Code of where you shop online...                                          -0.211198                                                      \n",
       "5 Since How Long You are Shopping Online ?                                                   0.139924                                                      \n",
       "...                                                                                               ...                                                      \n",
       "Longer delivery period                                                                       0.048533                                                      \n",
       "Change in website/Application design                                                         0.418180                                                      \n",
       "Frequent disruption when moving from one page t...                                          -0.065658                                                      \n",
       "Website is as efficient as before                                                           -0.100462                                                      \n",
       "Which of the Indian online retailer would you r...                                           0.074453                                                      \n",
       "\n",
       "                                                    10 What is the operating system (OS) of your device?\\t\\t\\t\\t                                            \\\n",
       "1Gender of respondent                                                                       -0.019243                                                        \n",
       "2 How old are you?                                                                          -0.048087                                                        \n",
       "3 Which city do you shop online from?                                                       -0.051642                                                        \n",
       "4 What is the Pin Code of where you shop online...                                          -0.053901                                                        \n",
       "5 Since How Long You are Shopping Online ?                                                   0.274201                                                        \n",
       "...                                                                                               ...                                                        \n",
       "Longer delivery period                                                                       0.397953                                                        \n",
       "Change in website/Application design                                                         0.059894                                                        \n",
       "Frequent disruption when moving from one page t...                                           0.111380                                                        \n",
       "Website is as efficient as before                                                           -0.128611                                                        \n",
       "Which of the Indian online retailer would you r...                                          -0.159579                                                        \n",
       "\n",
       "                                                    ...  \\\n",
       "1Gender of respondent                               ...   \n",
       "2 How old are you?                                  ...   \n",
       "3 Which city do you shop online from?               ...   \n",
       "4 What is the Pin Code of where you shop online...  ...   \n",
       "5 Since How Long You are Shopping Online ?          ...   \n",
       "...                                                 ...   \n",
       "Longer delivery period                              ...   \n",
       "Change in website/Application design                ...   \n",
       "Frequent disruption when moving from one page t...  ...   \n",
       "Website is as efficient as before                   ...   \n",
       "Which of the Indian online retailer would you r...  ...   \n",
       "\n",
       "                                                    Longer time to get logged in (promotion, sales period)  \\\n",
       "1Gender of respondent                                                                       -0.101925        \n",
       "2 How old are you?                                                                          -0.281877        \n",
       "3 Which city do you shop online from?                                                       -0.065450        \n",
       "4 What is the Pin Code of where you shop online...                                          -0.085194        \n",
       "5 Since How Long You are Shopping Online ?                                                   0.154763        \n",
       "...                                                                                               ...        \n",
       "Longer delivery period                                                                       0.268484        \n",
       "Change in website/Application design                                                         0.370649        \n",
       "Frequent disruption when moving from one page t...                                           0.274454        \n",
       "Website is as efficient as before                                                            0.122555        \n",
       "Which of the Indian online retailer would you r...                                           0.261774        \n",
       "\n",
       "                                                    Longer time in displaying graphics and photos (promotion, sales period)  \\\n",
       "1Gender of respondent                                                                       -0.228744                         \n",
       "2 How old are you?                                                                          -0.095850                         \n",
       "3 Which city do you shop online from?                                                       -0.115453                         \n",
       "4 What is the Pin Code of where you shop online...                                           0.089605                         \n",
       "5 Since How Long You are Shopping Online ?                                                  -0.063386                         \n",
       "...                                                                                               ...                         \n",
       "Longer delivery period                                                                       0.365030                         \n",
       "Change in website/Application design                                                         0.152655                         \n",
       "Frequent disruption when moving from one page t...                                           0.603750                         \n",
       "Website is as efficient as before                                                           -0.010967                         \n",
       "Which of the Indian online retailer would you r...                                          -0.140519                         \n",
       "\n",
       "                                                    Late declaration of price (promotion, sales period)  \\\n",
       "1Gender of respondent                                                                       -0.061374     \n",
       "2 How old are you?                                                                          -0.064601     \n",
       "3 Which city do you shop online from?                                                       -0.293441     \n",
       "4 What is the Pin Code of where you shop online...                                          -0.070046     \n",
       "5 Since How Long You are Shopping Online ?                                                   0.305533     \n",
       "...                                                                                               ...     \n",
       "Longer delivery period                                                                       0.598200     \n",
       "Change in website/Application design                                                         0.035417     \n",
       "Frequent disruption when moving from one page t...                                           0.332032     \n",
       "Website is as efficient as before                                                            0.123087     \n",
       "Which of the Indian online retailer would you r...                                           0.231029     \n",
       "\n",
       "                                                    Longer page loading time (promotion, sales period)  \\\n",
       "1Gender of respondent                                                                        0.008289    \n",
       "2 How old are you?                                                                          -0.128064    \n",
       "3 Which city do you shop online from?                                                       -0.104340    \n",
       "4 What is the Pin Code of where you shop online...                                          -0.026817    \n",
       "5 Since How Long You are Shopping Online ?                                                   0.086616    \n",
       "...                                                                                               ...    \n",
       "Longer delivery period                                                                       0.797480    \n",
       "Change in website/Application design                                                         0.225618    \n",
       "Frequent disruption when moving from one page t...                                           0.614528    \n",
       "Website is as efficient as before                                                            0.319264    \n",
       "Which of the Indian online retailer would you r...                                           0.278281    \n",
       "\n",
       "                                                    Limited mode of payment on most products (promotion, sales period)  \\\n",
       "1Gender of respondent                                                                       -0.158941                    \n",
       "2 How old are you?                                                                          -0.198658                    \n",
       "3 Which city do you shop online from?                                                       -0.263921                    \n",
       "4 What is the Pin Code of where you shop online...                                           0.054532                    \n",
       "5 Since How Long You are Shopping Online ?                                                   0.159591                    \n",
       "...                                                                                               ...                    \n",
       "Longer delivery period                                                                       0.593167                    \n",
       "Change in website/Application design                                                         0.214103                    \n",
       "Frequent disruption when moving from one page t...                                           0.506431                    \n",
       "Website is as efficient as before                                                            0.275338                    \n",
       "Which of the Indian online retailer would you r...                                           0.028901                    \n",
       "\n",
       "                                                    Longer delivery period  \\\n",
       "1Gender of respondent                                             0.060838   \n",
       "2 How old are you?                                               -0.156173   \n",
       "3 Which city do you shop online from?                            -0.123369   \n",
       "4 What is the Pin Code of where you shop online...               -0.078660   \n",
       "5 Since How Long You are Shopping Online ?                        0.218641   \n",
       "...                                                                    ...   \n",
       "Longer delivery period                                            1.000000   \n",
       "Change in website/Application design                              0.329965   \n",
       "Frequent disruption when moving from one page t...                0.475654   \n",
       "Website is as efficient as before                                 0.247471   \n",
       "Which of the Indian online retailer would you r...                0.428419   \n",
       "\n",
       "                                                    Change in website/Application design  \\\n",
       "1Gender of respondent                                                          -0.164818   \n",
       "2 How old are you?                                                             -0.134558   \n",
       "3 Which city do you shop online from?                                           0.000427   \n",
       "4 What is the Pin Code of where you shop online...                             -0.058715   \n",
       "5 Since How Long You are Shopping Online ?                                      0.220347   \n",
       "...                                                                                  ...   \n",
       "Longer delivery period                                                          0.329965   \n",
       "Change in website/Application design                                            1.000000   \n",
       "Frequent disruption when moving from one page t...                              0.436573   \n",
       "Website is as efficient as before                                              -0.189925   \n",
       "Which of the Indian online retailer would you r...                              0.423877   \n",
       "\n",
       "                                                    Frequent disruption when moving from one page to another  \\\n",
       "1Gender of respondent                                                                       -0.256638          \n",
       "2 How old are you?                                                                          -0.018825          \n",
       "3 Which city do you shop online from?                                                        0.019167          \n",
       "4 What is the Pin Code of where you shop online...                                           0.039936          \n",
       "5 Since How Long You are Shopping Online ?                                                   0.025919          \n",
       "...                                                                                               ...          \n",
       "Longer delivery period                                                                       0.475654          \n",
       "Change in website/Application design                                                         0.436573          \n",
       "Frequent disruption when moving from one page t...                                           1.000000          \n",
       "Website is as efficient as before                                                            0.363440          \n",
       "Which of the Indian online retailer would you r...                                           0.122953          \n",
       "\n",
       "                                                    Website is as efficient as before  \\\n",
       "1Gender of respondent                                                        0.055663   \n",
       "2 How old are you?                                                          -0.008582   \n",
       "3 Which city do you shop online from?                                        0.007117   \n",
       "4 What is the Pin Code of where you shop online...                           0.037662   \n",
       "5 Since How Long You are Shopping Online ?                                  -0.024316   \n",
       "...                                                                               ...   \n",
       "Longer delivery period                                                       0.247471   \n",
       "Change in website/Application design                                        -0.189925   \n",
       "Frequent disruption when moving from one page t...                           0.363440   \n",
       "Website is as efficient as before                                            1.000000   \n",
       "Which of the Indian online retailer would you r...                           0.252154   \n",
       "\n",
       "                                                    Which of the Indian online retailer would you recommend to a friend?  \n",
       "1Gender of respondent                                                                       -0.003372                     \n",
       "2 How old are you?                                                                          -0.135263                     \n",
       "3 Which city do you shop online from?                                                       -0.142123                     \n",
       "4 What is the Pin Code of where you shop online...                                          -0.045388                     \n",
       "5 Since How Long You are Shopping Online ?                                                   0.136106                     \n",
       "...                                                                                               ...                     \n",
       "Longer delivery period                                                                       0.428419                     \n",
       "Change in website/Application design                                                         0.423877                     \n",
       "Frequent disruption when moving from one page t...                                           0.122953                     \n",
       "Website is as efficient as before                                                            0.252154                     \n",
       "Which of the Indian online retailer would you r...                                           1.000000                     \n",
       "\n",
       "[71 rows x 71 columns]"
      ]
     },
     "execution_count": 12,
     "metadata": {},
     "output_type": "execute_result"
    }
   ],
   "source": [
    "df.corr()"
   ]
  },
  {
   "cell_type": "code",
   "execution_count": 13,
   "id": "f3b42d5b",
   "metadata": {},
   "outputs": [],
   "source": [
    "import seaborn as sns\n",
    "import matplotlib.pyplot as plt\n",
    "import numpy as np"
   ]
  },
  {
   "cell_type": "code",
   "execution_count": 14,
   "id": "b9fb9d18",
   "metadata": {},
   "outputs": [
    {
     "data": {
      "text/plain": [
       "<seaborn.axisgrid.FacetGrid at 0x239834c4af0>"
      ]
     },
     "execution_count": 14,
     "metadata": {},
     "output_type": "execute_result"
    },
    {
     "data": {
      "image/png": "[encoded data removed]",
      "text/plain": [
       "<Figure size 360x360 with 1 Axes>"
      ]
     },
     "metadata": {
      "needs_background": "light"
     },
     "output_type": "display_data"
    }
   ],
   "source": [
    "sns.catplot(x=\"3 Which city do you shop online from?\",y=\"5 Since How Long You are Shopping Online ?\",data = df,kind = 'bar')"
   ]
  },
  {
   "cell_type": "markdown",
   "id": "73d62518",
   "metadata": {},
   "source": [
    "this graph shows the people of city number 10 is not shopping from long time "
   ]
  },
  {
   "cell_type": "code",
   "execution_count": 15,
   "id": "133bd008",
   "metadata": {},
   "outputs": [
    {
     "data": {
      "text/plain": [
       "<AxesSubplot:xlabel='2 How old are you? ', ylabel='3 Which city do you shop online from?'>"
      ]
     },
     "execution_count": 15,
     "metadata": {},
     "output_type": "execute_result"
    },
    {
     "data": {
      "image/png": "[encoded data removed]",
      "text/plain": [
       "<Figure size 432x288 with 1 Axes>"
      ]
     },
     "metadata": {
      "needs_background": "light"
     },
     "output_type": "display_data"
    }
   ],
   "source": [
    "sns.scatterplot(x= \"2 How old are you? \", y= \"3 Which city do you shop online from?\",data = df)"
   ]
  },
  {
   "cell_type": "code",
   "execution_count": 16,
   "id": "bfefc23c",
   "metadata": {},
   "outputs": [
    {
     "data": {
      "text/plain": [
       "<AxesSubplot:xlabel='2 How old are you? ', ylabel='3 Which city do you shop online from?'>"
      ]
     },
     "execution_count": 16,
     "metadata": {},
     "output_type": "execute_result"
    },
    {
     "data": {
      "image/png": "[encoded data removed]",
      "text/plain": [
       "<Figure size 432x288 with 1 Axes>"
      ]
     },
     "metadata": {
      "needs_background": "light"
     },
     "output_type": "display_data"
    }
   ],
   "source": [
    "sns.lineplot(x= \"2 How old are you? \", y= \"3 Which city do you shop online from?\",data = df,ci=None)"
   ]
  },
  {
   "cell_type": "raw",
   "id": "e454321e",
   "metadata": {},
   "source": [
    "it shows that increase in y also increase the x and decrease in y also decrease the x "
   ]
  },
  {
   "cell_type": "code",
   "execution_count": 17,
   "id": "5de5e4a1",
   "metadata": {},
   "outputs": [
    {
     "data": {
      "text/plain": [
       "1    81\n",
       "0    79\n",
       "2    70\n",
       "4    20\n",
       "3    19\n",
       "Name: 2 How old are you? , dtype: int64"
      ]
     },
     "execution_count": 17,
     "metadata": {},
     "output_type": "execute_result"
    }
   ],
   "source": [
    "df['2 How old are you? '].value_counts()"
   ]
  },
  {
   "cell_type": "markdown",
   "id": "7073adca",
   "metadata": {},
   "source": [
    "31-40 age group of people respondant more and shoping more than the other age group "
   ]
  },
  {
   "cell_type": "code",
   "execution_count": 18,
   "id": "df7eea0e",
   "metadata": {},
   "outputs": [
    {
     "data": {
      "text/plain": [
       "<AxesSubplot:xlabel='2 How old are you? ', ylabel='3 Which city do you shop online from?'>"
      ]
     },
     "execution_count": 18,
     "metadata": {},
     "output_type": "execute_result"
    },
    {
     "data": {
      "image/png": "[encoded data removed]",
      "text/plain": [
       "<Figure size 432x288 with 1 Axes>"
      ]
     },
     "metadata": {
      "needs_background": "light"
     },
     "output_type": "display_data"
    }
   ],
   "source": [
    "sns.regplot(x= \"2 How old are you? \", y= \"3 Which city do you shop online from?\",data = df)"
   ]
  },
  {
   "cell_type": "code",
   "execution_count": 19,
   "id": "66007057",
   "metadata": {},
   "outputs": [
    {
     "data": {
      "text/plain": [
       "<AxesSubplot:xlabel='Complete, relevant description information of products', ylabel='3 Which city do you shop online from?'>"
      ]
     },
     "execution_count": 19,
     "metadata": {},
     "output_type": "execute_result"
    },
    {
     "data": {
      "image/png": "[encoded data removed]",
      "text/plain": [
       "<Figure size 432x288 with 1 Axes>"
      ]
     },
     "metadata": {
      "needs_background": "light"
     },
     "output_type": "display_data"
    }
   ],
   "source": [
    "sns.regplot(x= \"Complete, relevant description information of products\", y= \"3 Which city do you shop online from?\",data = df)"
   ]
  },
  {
   "cell_type": "code",
   "execution_count": 20,
   "id": "fe1a13bf",
   "metadata": {},
   "outputs": [
    {
     "data": {
      "text/plain": [
       "<AxesSubplot:xlabel='4 What is the Pin Code of where you shop online from?'>"
      ]
     },
     "execution_count": 20,
     "metadata": {},
     "output_type": "execute_result"
    },
    {
     "data": {
      "image/png": "[encoded data removed]",
      "text/plain": [
       "<Figure size 432x288 with 1 Axes>"
      ]
     },
     "metadata": {
      "needs_background": "light"
     },
     "output_type": "display_data"
    }
   ],
   "source": [
    "sns.violinplot(df[\"4 What is the Pin Code of where you shop online from?\"])"
   ]
  },
  {
   "cell_type": "markdown",
   "id": "f748d2d8",
   "metadata": {},
   "source": [
    "it shows that most of the people who shopped online they belongs with the city of this pincode(150000-200000)"
   ]
  },
  {
   "cell_type": "code",
   "execution_count": 21,
   "id": "71b7e9cd",
   "metadata": {},
   "outputs": [
    {
     "data": {
      "text/plain": [
       "<AxesSubplot:xlabel='3 Which city do you shop online from?'>"
      ]
     },
     "execution_count": 21,
     "metadata": {},
     "output_type": "execute_result"
    },
    {
     "data": {
      "image/png": "[encoded data removed]",
      "text/plain": [
       "<Figure size 432x288 with 1 Axes>"
      ]
     },
     "metadata": {
      "needs_background": "light"
     },
     "output_type": "display_data"
    }
   ],
   "source": [
    "sns.violinplot(df[\"3 Which city do you shop online from?\"])"
   ]
  },
  {
   "cell_type": "markdown",
   "id": "30f49cd5",
   "metadata": {},
   "source": [
    "it shows most of the people who shopped online is belongs from the city with number of(2-3,9-10)"
   ]
  },
  {
   "cell_type": "code",
   "execution_count": 22,
   "id": "1ccb3271",
   "metadata": {},
   "outputs": [
    {
     "data": {
      "text/plain": [
       "<AxesSubplot:>"
      ]
     },
     "execution_count": 22,
     "metadata": {},
     "output_type": "execute_result"
    },
    {
     "data": {
      "image/png": "[encoded data removed]",
      "text/plain": [
       "<Figure size 432x288 with 1 Axes>"
      ]
     },
     "metadata": {
      "needs_background": "light"
     },
     "output_type": "display_data"
    }
   ],
   "source": [
    "df['Longer delivery period'].plot.box()"
   ]
  },
  {
   "cell_type": "code",
   "execution_count": 23,
   "id": "5efd86a4",
   "metadata": {},
   "outputs": [
    {
     "data": {
      "text/plain": [
       "<AxesSubplot:xlabel='1Gender of respondent'>"
      ]
     },
     "execution_count": 23,
     "metadata": {},
     "output_type": "execute_result"
    },
    {
     "data": {
      "image/png": "[encoded data removed]",
      "text/plain": [
       "<Figure size 432x288 with 1 Axes>"
      ]
     },
     "metadata": {
      "needs_background": "light"
     },
     "output_type": "display_data"
    }
   ],
   "source": [
    "sns.violinplot(df[\"1Gender of respondent\"])"
   ]
  },
  {
   "cell_type": "markdown",
   "id": "fe40d9e4",
   "metadata": {},
   "source": [
    "it shows most of the people who responded is \"0\" means female "
   ]
  },
  {
   "cell_type": "code",
   "execution_count": 24,
   "id": "be34d8cd",
   "metadata": {},
   "outputs": [
    {
     "data": {
      "text/plain": [
       "<seaborn.axisgrid.FacetGrid at 0x23983f1c040>"
      ]
     },
     "execution_count": 24,
     "metadata": {},
     "output_type": "execute_result"
    },
    {
     "data": {
      "image/png": "[encoded data removed]",
      "text/plain": [
       "<Figure size 360x360 with 1 Axes>"
      ]
     },
     "metadata": {
      "needs_background": "light"
     },
     "output_type": "display_data"
    }
   ],
   "source": [
    "sns.relplot(x=\"1Gender of respondent\",y=\"Which of the Indian online retailer would you recommend to a friend?\",data = df)"
   ]
  },
  {
   "cell_type": "code",
   "execution_count": 25,
   "id": "3da5eba6",
   "metadata": {},
   "outputs": [
    {
     "data": {
      "text/plain": [
       "(<AxesSubplot:xlabel='1Gender of respondent', ylabel='Which of the Indian online retailer would you recommend to a friend?'>,)"
      ]
     },
     "execution_count": 25,
     "metadata": {},
     "output_type": "execute_result"
    },
    {
     "data": {
      "image/png": "[encoded data removed]",
      "text/plain": [
       "<Figure size 432x288 with 1 Axes>"
      ]
     },
     "metadata": {
      "needs_background": "light"
     },
     "output_type": "display_data"
    }
   ],
   "source": [
    "sns.lineplot(x=\"1Gender of respondent\",y=\"Which of the Indian online retailer would you recommend to a friend?\",data = df),#ci =None)"
   ]
  },
  {
   "cell_type": "code",
   "execution_count": 26,
   "id": "5345999c",
   "metadata": {},
   "outputs": [
    {
     "data": {
      "text/plain": [
       "<AxesSubplot:xlabel='1Gender of respondent', ylabel='Which of the Indian online retailer would you recommend to a friend?'>"
      ]
     },
     "execution_count": 26,
     "metadata": {},
     "output_type": "execute_result"
    },
    {
     "data": {
      "image/png": "[encoded data removed]",
      "text/plain": [
       "<Figure size 432x288 with 1 Axes>"
      ]
     },
     "metadata": {
      "needs_background": "light"
     },
     "output_type": "display_data"
    }
   ],
   "source": [
    "sns.regplot(x=\"1Gender of respondent\",y=\"Which of the Indian online retailer would you recommend to a friend?\",data = df,ci=None)"
   ]
  },
  {
   "cell_type": "code",
   "execution_count": 27,
   "id": "33d3f5b9",
   "metadata": {},
   "outputs": [
    {
     "data": {
      "text/plain": [
       "<seaborn.axisgrid.JointGrid at 0x239842b1df0>"
      ]
     },
     "execution_count": 27,
     "metadata": {},
     "output_type": "execute_result"
    },
    {
     "data": {
      "image/png": "[encoded data removed]",
      "text/plain": [
       "<Figure size 432x432 with 3 Axes>"
      ]
     },
     "metadata": {
      "needs_background": "light"
     },
     "output_type": "display_data"
    }
   ],
   "source": [
    "sns.jointplot(x=\"1Gender of respondent\",y=\"Which of the Indian online retailer would you recommend to a friend?\",data = df)"
   ]
  },
  {
   "cell_type": "code",
   "execution_count": 28,
   "id": "8f2ef87c",
   "metadata": {},
   "outputs": [
    {
     "data": {
      "text/plain": [
       "<AxesSubplot:xlabel='8 Which device do you use to access the online shopping?'>"
      ]
     },
     "execution_count": 28,
     "metadata": {},
     "output_type": "execute_result"
    },
    {
     "data": {
      "image/png": "[encoded data removed]",
      "text/plain": [
       "<Figure size 432x288 with 1 Axes>"
      ]
     },
     "metadata": {
      "needs_background": "light"
     },
     "output_type": "display_data"
    }
   ],
   "source": [
    "sns.violinplot(df[\"8 Which device do you use to access the online shopping?\"])"
   ]
  },
  {
   "cell_type": "markdown",
   "id": "9d0831a0",
   "metadata": {},
   "source": [
    "means most of the people is shoping by smartphone"
   ]
  },
  {
   "cell_type": "code",
   "execution_count": 29,
   "id": "06f543b6",
   "metadata": {},
   "outputs": [
    {
     "data": {
      "text/plain": [
       "Index(['1Gender of respondent', '2 How old are you? ',\n",
       "       '3 Which city do you shop online from?',\n",
       "       '4 What is the Pin Code of where you shop online from?',\n",
       "       '5 Since How Long You are Shopping Online ?',\n",
       "       '6 How many times you have made an online purchase in the past 1 year?',\n",
       "       '7 How do you access the internet while shopping on-line?',\n",
       "       '8 Which device do you use to access the online shopping?',\n",
       "       '9 What is the screen size of your mobile device?\\t\\t\\t\\t\\t\\t                                        ',\n",
       "       '10 What is the operating system (OS) of your device?\\t\\t\\t\\t                                          ',\n",
       "       '11 What browser do you run on your device to access the website?\\t\\t\\t                                                          ',\n",
       "       '12 Which channel did you follow to arrive at your favorite online store for the first time?                                                                   ',\n",
       "       '13 After first visit, how do you reach the online retail store?\\t\\t\\t\\t                                                   ',\n",
       "       '14 How much time do you explore the e- retail store before making a purchase decision?                                                                   ',\n",
       "       '15 What is your preferred payment Option?\\t\\t\\t\\t\\t                                                                                                                               ',\n",
       "       '16 How frequently do you abandon (selecting an items and leaving without making payment) your shopping cart?\\t\\t\\t\\t\\t\\t\\t                                                   ',\n",
       "       '17 Why did you abandon the “Bag”, “Shopping Cart”?\\t\\t\\t\\t\\t                                                                                                                                                       ',\n",
       "       '18 The content on the website must be easy to read and understand',\n",
       "       '19 Information on similar product to the one highlighted  is important for product comparison',\n",
       "       '20 Complete information on listed seller and product being offered is important for purchase decision.',\n",
       "       '21 All relevant information on listed products must be stated clearly',\n",
       "       '22 Ease of navigation in website', '23 Loading and processing speed',\n",
       "       '24 User friendly Interface of the website',\n",
       "       '25 Convenient Payment methods',\n",
       "       '26 Trust that the online retail store will fulfill its part of the transaction at the stipulated time',\n",
       "       '27 Empathy (readiness to assist with queries) towards the customers',\n",
       "       '28 Being able to guarantee the privacy of the customer',\n",
       "       '29 Responsiveness, availability of several communication channels (email, online rep, twitter, phone etc.)',\n",
       "       '30 Online shopping gives monetary benefit and discounts',\n",
       "       '31 Enjoyment is derived from shopping online',\n",
       "       '32 Shopping online is convenient and flexible',\n",
       "       '33 Return and replacement policy of the e-tailer is important for purchase decision',\n",
       "       '34 Gaining access to loyalty programs is a benefit of shopping online',\n",
       "       '35 Displaying quality Information on the website improves satisfaction of customers',\n",
       "       '36 User derive satisfaction while shopping on a good quality website or application',\n",
       "       '37 Net Benefit derived from shopping online can lead to users satisfaction',\n",
       "       '38 User satisfaction cannot exist without trust',\n",
       "       '39 Offering a wide variety of listed product in several category',\n",
       "       '40 Provision of complete and relevant product information',\n",
       "       '41 Monetary savings',\n",
       "       '42 The Convenience of patronizing the online retailer',\n",
       "       '43 Shopping on the website gives you the sense of adventure',\n",
       "       '44 Shopping on your preferred e-tailer enhances your social status',\n",
       "       '45 You feel gratification shopping on your favorite e-tailer',\n",
       "       '46 Shopping on the website helps you fulfill certain roles',\n",
       "       '47 Getting value for money spent',\n",
       "       'From the following, tick any (or all) of the online retailers you have shopped from;                                                                           ',\n",
       "       'Easy to use website or application',\n",
       "       'Visual appealing web-page layout', 'Wild variety of product on offer',\n",
       "       'Complete, relevant description information of products',\n",
       "       'Fast loading website speed of website and application',\n",
       "       'Reliability of the website or application',\n",
       "       'Quickness to complete purchase',\n",
       "       'Availability of several payment options', 'Speedy order delivery ',\n",
       "       'Privacy of customers’ information',\n",
       "       'Security of customer financial information',\n",
       "       'Perceived Trustworthiness',\n",
       "       'Presence of online assistance through multi-channel',\n",
       "       'Longer time to get logged in (promotion, sales period)',\n",
       "       'Longer time in displaying graphics and photos (promotion, sales period)',\n",
       "       'Late declaration of price (promotion, sales period)',\n",
       "       'Longer page loading time (promotion, sales period)',\n",
       "       'Limited mode of payment on most products (promotion, sales period)',\n",
       "       'Longer delivery period', 'Change in website/Application design',\n",
       "       'Frequent disruption when moving from one page to another',\n",
       "       'Website is as efficient as before',\n",
       "       'Which of the Indian online retailer would you recommend to a friend?'],\n",
       "      dtype='object')"
      ]
     },
     "execution_count": 29,
     "metadata": {},
     "output_type": "execute_result"
    }
   ],
   "source": [
    "df.columns"
   ]
  },
  {
   "cell_type": "code",
   "execution_count": 30,
   "id": "c9b2990a",
   "metadata": {},
   "outputs": [
    {
     "data": {
      "text/plain": [
       "0    79\n",
       "1    62\n",
       "6    39\n",
       "3    30\n",
       "5    20\n",
       "2    15\n",
       "4    13\n",
       "7    11\n",
       "Name: Which of the Indian online retailer would you recommend to a friend?, dtype: int64"
      ]
     },
     "execution_count": 30,
     "metadata": {},
     "output_type": "execute_result"
    }
   ],
   "source": [
    "df[\"Which of the Indian online retailer would you recommend to a friend?\"].value_counts()"
   ]
  },
  {
   "cell_type": "markdown",
   "id": "b9275123",
   "metadata": {},
   "source": [
    "amazon website is more recomended by the people"
   ]
  },
  {
   "cell_type": "code",
   "execution_count": 31,
   "id": "6e191aee",
   "metadata": {},
   "outputs": [
    {
     "data": {
      "text/plain": [
       "array([6, 3, 5, 1, 4, 7, 0, 2])"
      ]
     },
     "execution_count": 31,
     "metadata": {},
     "output_type": "execute_result"
    }
   ],
   "source": [
    "df[\"Which of the Indian online retailer would you recommend to a friend?\"].unique()"
   ]
  },
  {
   "cell_type": "code",
   "execution_count": 32,
   "id": "2ca7d35c",
   "metadata": {},
   "outputs": [
    {
     "data": {
      "text/plain": [
       "<seaborn.axisgrid.FacetGrid at 0x239854069a0>"
      ]
     },
     "execution_count": 32,
     "metadata": {},
     "output_type": "execute_result"
    },
    {
     "data": {
      "image/png": "[encoded data removed]",
      "text/plain": [
       "<Figure size 715.375x360 with 1 Axes>"
      ]
     },
     "metadata": {
      "needs_background": "light"
     },
     "output_type": "display_data"
    }
   ],
   "source": [
    "sns.catplot(x=\"Easy to use website or application\",y=\"Website is as efficient as before\",hue =\"Which of the Indian online retailer would you recommend to a friend?\",data=df,kind='bar')"
   ]
  },
  {
   "cell_type": "code",
   "execution_count": 33,
   "id": "0f22adbf",
   "metadata": {},
   "outputs": [
    {
     "data": {
      "text/plain": [
       "<seaborn.axisgrid.FacetGrid at 0x23985634760>"
      ]
     },
     "execution_count": 33,
     "metadata": {},
     "output_type": "execute_result"
    },
    {
     "data": {
      "image/png": "[encoded data removed]",
      "text/plain": [
       "<Figure size 360x360 with 1 Axes>"
      ]
     },
     "metadata": {
      "needs_background": "light"
     },
     "output_type": "display_data"
    }
   ],
   "source": [
    "sns.catplot(x=\"5 Since How Long You are Shopping Online ?\",y=\"Which of the Indian online retailer would you recommend to a friend?\",data=df,kind='bar')"
   ]
  },
  {
   "cell_type": "code",
   "execution_count": 34,
   "id": "4b993ab5",
   "metadata": {},
   "outputs": [
    {
     "data": {
      "text/plain": [
       "<seaborn.axisgrid.FacetGrid at 0x23985634220>"
      ]
     },
     "execution_count": 34,
     "metadata": {},
     "output_type": "execute_result"
    },
    {
     "data": {
      "image/png": "[encoded data removed]",
      "text/plain": [
       "<Figure size 360x360 with 1 Axes>"
      ]
     },
     "metadata": {
      "needs_background": "light"
     },
     "output_type": "display_data"
    }
   ],
   "source": [
    "sns.catplot(x=\"5 Since How Long You are Shopping Online ?\",y=\"Which of the Indian online retailer would you recommend to a friend?\",data=df,kind='violin')"
   ]
  },
  {
   "cell_type": "code",
   "execution_count": 35,
   "id": "fcd9d6e2",
   "metadata": {},
   "outputs": [
    {
     "data": {
      "text/plain": [
       "3    98\n",
       "1    65\n",
       "2    47\n",
       "4    43\n",
       "0    16\n",
       "Name: 5 Since How Long You are Shopping Online ?, dtype: int64"
      ]
     },
     "execution_count": 35,
     "metadata": {},
     "output_type": "execute_result"
    }
   ],
   "source": [
    "df[\"5 Since How Long You are Shopping Online ?\"].value_counts()"
   ]
  },
  {
   "cell_type": "markdown",
   "id": "79cefef7",
   "metadata": {},
   "source": [
    "most of the people who responded are shoping more than 4 years "
   ]
  },
  {
   "cell_type": "code",
   "execution_count": 36,
   "id": "ec54f848",
   "metadata": {},
   "outputs": [
    {
     "data": {
      "text/plain": [
       "<AxesSubplot:xlabel='7 How do you access the internet while shopping on-line?', ylabel='count'>"
      ]
     },
     "execution_count": 36,
     "metadata": {},
     "output_type": "execute_result"
    },
    {
     "data": {
      "image/png": "[encoded data removed]",
      "text/plain": [
       "<Figure size 432x288 with 1 Axes>"
      ]
     },
     "metadata": {
      "needs_background": "light"
     },
     "output_type": "display_data"
    }
   ],
   "source": [
    "sns.countplot(df[\"7 How do you access the internet while shopping on-line?\"])"
   ]
  },
  {
   "cell_type": "markdown",
   "id": "59c54aba",
   "metadata": {},
   "source": [
    "most of the people have mobile internet while accss the website"
   ]
  },
  {
   "cell_type": "code",
   "execution_count": 37,
   "id": "5bdc59d5",
   "metadata": {},
   "outputs": [
    {
     "data": {
      "text/plain": [
       "1Gender of respondent                                                   0\n",
       "2 How old are you?                                                      0\n",
       "3 Which city do you shop online from?                                   0\n",
       "4 What is the Pin Code of where you shop online from?                   0\n",
       "5 Since How Long You are Shopping Online ?                              0\n",
       "                                                                       ..\n",
       "Longer delivery period                                                  0\n",
       "Change in website/Application design                                    0\n",
       "Frequent disruption when moving from one page to another                0\n",
       "Website is as efficient as before                                       0\n",
       "Which of the Indian online retailer would you recommend to a friend?    0\n",
       "Length: 71, dtype: int64"
      ]
     },
     "execution_count": 37,
     "metadata": {},
     "output_type": "execute_result"
    }
   ],
   "source": [
    "df.isnull().sum()"
   ]
  },
  {
   "cell_type": "code",
   "execution_count": 38,
   "id": "75462637",
   "metadata": {},
   "outputs": [
    {
     "data": {
      "text/plain": [
       "<AxesSubplot:>"
      ]
     },
     "execution_count": 38,
     "metadata": {},
     "output_type": "execute_result"
    },
    {
     "data": {
      "image/png": "[encoded data removed]",
      "text/plain": [
       "<Figure size 432x288 with 2 Axes>"
      ]
     },
     "metadata": {
      "needs_background": "light"
     },
     "output_type": "display_data"
    }
   ],
   "source": [
    "sns.heatmap(df.isnull())"
   ]
  },
  {
   "cell_type": "markdown",
   "id": "da07f48e",
   "metadata": {},
   "source": [
    "no null value is present in tha data "
   ]
  },
  {
   "cell_type": "code",
   "execution_count": 39,
   "id": "b6ee70ec",
   "metadata": {},
   "outputs": [
    {
     "data": {
      "text/plain": [
       "<AxesSubplot:xlabel='Longer delivery period', ylabel='count'>"
      ]
     },
     "execution_count": 39,
     "metadata": {},
     "output_type": "execute_result"
    },
    {
     "data": {
      "image/png": "[encoded data removed]",
      "text/plain": [
       "<Figure size 432x288 with 1 Axes>"
      ]
     },
     "metadata": {
      "needs_background": "light"
     },
     "output_type": "display_data"
    }
   ],
   "source": [
    "sns.countplot(df[\"Longer delivery period\"])"
   ]
  },
  {
   "cell_type": "markdown",
   "id": "df4db667",
   "metadata": {},
   "source": [
    "website number 3 take most time to deliver the product"
   ]
  },
  {
   "cell_type": "code",
   "execution_count": 40,
   "id": "6abe6c0e",
   "metadata": {},
   "outputs": [
    {
     "data": {
      "text/plain": [
       "<AxesSubplot:xlabel='Longer time in displaying graphics and photos (promotion, sales period)'>"
      ]
     },
     "execution_count": 40,
     "metadata": {},
     "output_type": "execute_result"
    },
    {
     "data": {
      "image/png": "[encoded data removed]",
      "text/plain": [
       "<Figure size 432x288 with 1 Axes>"
      ]
     },
     "metadata": {
      "needs_background": "light"
     },
     "output_type": "display_data"
    }
   ],
   "source": [
    "sns.violinplot(df[\"Longer time in displaying graphics and photos (promotion, sales period)\"])"
   ]
  },
  {
   "cell_type": "markdown",
   "id": "dae7b240",
   "metadata": {},
   "source": [
    "website number 1 takes longer time to displaying graphics and photos (promotion,sales period)"
   ]
  },
  {
   "cell_type": "code",
   "execution_count": 41,
   "id": "b87fe135",
   "metadata": {},
   "outputs": [
    {
     "data": {
      "text/plain": [
       "<AxesSubplot:xlabel='Longer time to get logged in (promotion, sales period)'>"
      ]
     },
     "execution_count": 41,
     "metadata": {},
     "output_type": "execute_result"
    },
    {
     "data": {
      "image/png": "[encoded data removed]",
      "text/plain": [
       "<Figure size 432x288 with 1 Axes>"
      ]
     },
     "metadata": {
      "needs_background": "light"
     },
     "output_type": "display_data"
    }
   ],
   "source": [
    "sns.violinplot(df[\"Longer time to get logged in (promotion, sales period)\"])"
   ]
  },
  {
   "cell_type": "markdown",
   "id": "f67d42a9",
   "metadata": {},
   "source": [
    "website number 1 takes longer time to get logged in (promotion,sales period)"
   ]
  },
  {
   "cell_type": "code",
   "execution_count": 42,
   "id": "ddb98639",
   "metadata": {},
   "outputs": [
    {
     "data": {
      "text/plain": [
       "<seaborn.axisgrid.FacetGrid at 0x23985b75370>"
      ]
     },
     "execution_count": 42,
     "metadata": {},
     "output_type": "execute_result"
    },
    {
     "data": {
      "image/png": "[encoded data removed]",
      "text/plain": [
       "<Figure size 360x360 with 1 Axes>"
      ]
     },
     "metadata": {
      "needs_background": "light"
     },
     "output_type": "display_data"
    }
   ],
   "source": [
    "sns.catplot(x=\"43 Shopping on the website gives you the sense of adventure\",y=\"Quickness to complete purchase\",data=df,kind=\"bar\")"
   ]
  },
  {
   "cell_type": "code",
   "execution_count": 43,
   "id": "8c999720",
   "metadata": {},
   "outputs": [
    {
     "data": {
      "text/plain": [
       "<AxesSubplot:xlabel='47 Getting value for money spent'>"
      ]
     },
     "execution_count": 43,
     "metadata": {},
     "output_type": "execute_result"
    },
    {
     "data": {
      "image/png": "[encoded data removed]",
      "text/plain": [
       "<Figure size 432x288 with 1 Axes>"
      ]
     },
     "metadata": {
      "needs_background": "light"
     },
     "output_type": "display_data"
    }
   ],
   "source": [
    "sns.violinplot(df[\"47 Getting value for money spent\"])"
   ]
  },
  {
   "cell_type": "code",
   "execution_count": 44,
   "id": "ba50624e",
   "metadata": {},
   "outputs": [
    {
     "data": {
      "text/plain": [
       "array([1, 0, 2])"
      ]
     },
     "execution_count": 44,
     "metadata": {},
     "output_type": "execute_result"
    }
   ],
   "source": [
    "df[\"47 Getting value for money spent\"].unique()"
   ]
  },
  {
   "cell_type": "code",
   "execution_count": 45,
   "id": "5d0af0e7",
   "metadata": {},
   "outputs": [
    {
     "data": {
      "text/plain": [
       "0    149\n",
       "1     82\n",
       "2     38\n",
       "Name: 47 Getting value for money spent, dtype: int64"
      ]
     },
     "execution_count": 45,
     "metadata": {},
     "output_type": "execute_result"
    }
   ],
   "source": [
    "df[\"47 Getting value for money spent\"].value_counts()"
   ]
  },
  {
   "cell_type": "code",
   "execution_count": 46,
   "id": "f09d6e22",
   "metadata": {},
   "outputs": [
    {
     "data": {
      "text/plain": [
       "0    51\n",
       "7    44\n",
       "1    30\n",
       "2    30\n",
       "5    30\n",
       "4    25\n",
       "6    25\n",
       "3    14\n",
       "9    12\n",
       "8     8\n",
       "Name: Fast loading website speed of website and application, dtype: int64"
      ]
     },
     "execution_count": 46,
     "metadata": {},
     "output_type": "execute_result"
    }
   ],
   "source": [
    "df[\"Fast loading website speed of website and application\"].value_counts()"
   ]
  },
  {
   "cell_type": "code",
   "execution_count": 47,
   "id": "ba2f0c35",
   "metadata": {},
   "outputs": [
    {
     "data": {
      "text/plain": [
       "<AxesSubplot:xlabel='Complete, relevant description information of products', ylabel='count'>"
      ]
     },
     "execution_count": 47,
     "metadata": {},
     "output_type": "execute_result"
    },
    {
     "data": {
      "image/png": "[encoded data removed]",
      "text/plain": [
       "<Figure size 432x288 with 1 Axes>"
      ]
     },
     "metadata": {
      "needs_background": "light"
     },
     "output_type": "display_data"
    }
   ],
   "source": [
    "sns.countplot(df[\"Complete, relevant description information of products\"])"
   ]
  },
  {
   "cell_type": "code",
   "execution_count": 48,
   "id": "f585b899",
   "metadata": {},
   "outputs": [
    {
     "data": {
      "text/plain": [
       "<AxesSubplot:xlabel='Complete, relevant description information of products'>"
      ]
     },
     "execution_count": 48,
     "metadata": {},
     "output_type": "execute_result"
    },
    {
     "data": {
      "image/png": "[encoded data removed]",
      "text/plain": [
       "<Figure size 432x288 with 1 Axes>"
      ]
     },
     "metadata": {
      "needs_background": "light"
     },
     "output_type": "display_data"
    }
   ],
   "source": [
    "sns.violinplot(df[\"Complete, relevant description information of products\"])"
   ]
  },
  {
   "cell_type": "code",
   "execution_count": 49,
   "id": "d448bfde",
   "metadata": {},
   "outputs": [
    {
     "data": {
      "text/plain": [
       "<AxesSubplot:xlabel='Wild variety of product on offer'>"
      ]
     },
     "execution_count": 49,
     "metadata": {},
     "output_type": "execute_result"
    },
    {
     "data": {
      "image/png": "[encoded data removed]",
      "text/plain": [
       "<Figure size 432x288 with 1 Axes>"
      ]
     },
     "metadata": {
      "needs_background": "light"
     },
     "output_type": "display_data"
    }
   ],
   "source": [
    "sns.violinplot(df[\"Wild variety of product on offer\"])"
   ]
  },
  {
   "cell_type": "code",
   "execution_count": 50,
   "id": "08419038",
   "metadata": {},
   "outputs": [
    {
     "data": {
      "text/plain": [
       "<seaborn.axisgrid.FacetGrid at 0x23985cac460>"
      ]
     },
     "execution_count": 50,
     "metadata": {},
     "output_type": "execute_result"
    },
    {
     "data": {
      "image/png": "[encoded data removed]",
      "text/plain": [
       "<Figure size 360x360 with 1 Axes>"
      ]
     },
     "metadata": {
      "needs_background": "light"
     },
     "output_type": "display_data"
    }
   ],
   "source": [
    "sns.catplot(x=\"Wild variety of product on offer\",y=\"Fast loading website speed of website and application\",data =df,kind = \"bar\")"
   ]
  },
  {
   "cell_type": "code",
   "execution_count": null,
   "id": "705503d0",
   "metadata": {},
   "outputs": [],
   "source": []
  }
 ],
 "metadata": {
  "kernelspec": {
   "display_name": "Python 3",
   "language": "python",
   "name": "python3"
  },
  "language_info": {
   "codemirror_mode": {
    "name": "ipython",
    "version": 3
   },
   "file_extension": ".py",
   "mimetype": "text/x-python",
   "name": "python",
   "nbconvert_exporter": "python",
   "pygments_lexer": "ipython3",
   "version": "3.8.8"
  }
 },
 "nbformat": 4,
 "nbformat_minor": 5
}
